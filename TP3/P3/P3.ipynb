{
 "cells": [
  {
   "cell_type": "code",
   "execution_count": null,
   "metadata": {},
   "outputs": [],
   "source": [
    "import pyterrier as pt\n",
    "import matplotlib.pyplot as plt\n",
    "from os import listdir\n",
    "from os.path import join, isdir\n",
    "import sys\n",
    "if not pt.started():\n",
    "    pt.init()"
   ]
  },
  {
   "cell_type": "code",
   "execution_count": null,
   "metadata": {},
   "outputs": [],
   "source": [
    "def qrles_trec(path):\n",
    "    \n",
    "    filein = path+\"/CISI.REL\"\n",
    "    fileout= open(\"qrels_CISI\", \"x\",encoding='utf-8')\n",
    "    with open(filein,'r',encoding='utf-8') as f:  \n",
    "        for line in f.readlines():\n",
    "            query_id, document_id, _,_ = line.split()\n",
    "            fileout.write(\"{} {} {} {}\\n\".format(query_id, 0, document_id, 1))\n",
    "    fileout.close()\n"
   ]
  },
  {
   "cell_type": "code",
   "execution_count": null,
   "metadata": {},
   "outputs": [],
   "source": [
    "path = 'cisi' #sys.argv[1]\n",
    "#qrles_trec(path)"
   ]
  },
  {
   "cell_type": "code",
   "execution_count": null,
   "metadata": {},
   "outputs": [],
   "source": [
    "def procesar_archivo_all(path):\n",
    "    path = path + '/CISI.ALL'\n",
    "    with open(path, 'r', encoding='utf-8') as file:\n",
    "        contenido = file.read()\n",
    "    \n",
    "    # Dividir el contenido en documentos\n",
    "    documentos = contenido.split(\".I \")[1:]\n",
    "    \n",
    "    # Escribir cada documento en el archivo de salida en formato TREC\n",
    "    with open('archivo_salida.trec', 'w', encoding='utf-8') as file:\n",
    "        for i, documento in enumerate(documentos, start=1):\n",
    "            # Agregar etiquetas TREC\n",
    "            documentoTrec = \"<DOC>\\n<DOCNO>\" + str(i) + \"</DOCNO>\\n\" + documento.strip() + \"\\n</DOC>\\n\\n\"\n",
    "            file.write(documentoTrec)"
   ]
  },
  {
   "cell_type": "code",
   "execution_count": null,
   "metadata": {},
   "outputs": [],
   "source": [
    "procesar_archivo_all(path)"
   ]
  },
  {
   "cell_type": "code",
   "execution_count": null,
   "metadata": {},
   "outputs": [],
   "source": [
    "import re\n",
    "import nltk\n",
    "from nltk.corpus import stopwords as nltk_stopwords\n",
    "\n",
    "# Descargar las stopwords de NLTK si no están disponibles\n",
    "nltk.download('stopwords')\n",
    "\n",
    "# Expresión regular para eliminar caracteres no alfanuméricos\n",
    "regex_alpha_words = re.compile(r'[^a-zA-Z0-9áéíóúÁÉÍÓÚüÜñÑ]')\n",
    "\n",
    "# Lista de stopwords de NLTK\n",
    "stopwords = set(nltk_stopwords.words('spanish'))\n",
    "\n",
    "# Diccionario para almacenar los términos únicos en cada consulta\n",
    "unique_terms = {}\n",
    "\n",
    "# Tokeniza una línea y opcionalmente cuenta las frecuencias de las palabras\n",
    "def tokenize_line(line, query_id):\n",
    "    tokens = []\n",
    "    for token in line.split():\n",
    "        word = re.sub(regex_alpha_words, '', token.lower())\n",
    "        if word and word not in stopwords:\n",
    "            # Si no estamos contando frecuencias, verificamos si el término ya se ha agregado a esta consulta\n",
    "            if word not in unique_terms.get(query_id, set()):\n",
    "                unique_terms.setdefault(query_id, set()).add(word)\n",
    "                tokens.append(word)\n",
    "    return tokens\n",
    "\n",
    "def tokenize_line_frec(line, query_id):\n",
    "    tokens = []\n",
    "    for token in line.split():\n",
    "        word = re.sub(regex_alpha_words, '', token.lower())\n",
    "        if word and word not in stopwords:\n",
    "            tokens.append(word)\n",
    "    return tokens\n",
    "\n",
    "# Obtiene el tipo de tag de una línea\n",
    "def get_tag(line):\n",
    "    match = re.match(r'\\.([ITAWXB])', line)\n",
    "    return match.group(1) if match else None\n",
    "\n",
    "# Obtiene el ID de consulta de una línea\n",
    "def get_query_id(line):\n",
    "    match = re.search(r'\\.I\\s+(\\d+)', line)\n",
    "    return match.group(1) if match else None\n",
    "\n",
    "# Función principal\n",
    "def query_trec(path):\n",
    "    filein = path + \"/CISI.QRY\"\n",
    "    with open(filein, 'r', encoding='utf-8') as fin, open(\"queries_CISI.trec\", \"w\", encoding='utf-8') as fout:\n",
    "        queryId = None\n",
    "        in_query = False\n",
    "        for line in fin:\n",
    "            tag = get_tag(line)\n",
    "            if tag == \"I\":\n",
    "                # Escribir el inicio de la consulta y marcar que estamos dentro de una consulta\n",
    "                if queryId:\n",
    "                    fout.write(\"</TITLE>\\n</TOP>\\n\")\n",
    "                queryId = get_query_id(line)\n",
    "                fout.write(f\"<TOP>\\n<NUM>{queryId}</NUM>\\n<TITLE> \")\n",
    "                in_query = True\n",
    "                unique_terms[queryId] = set()  # Limpiar los términos únicos para esta consulta\n",
    "            elif tag == \"B\":\n",
    "                # Escribir el fin de la consulta y marcar que no estamos dentro de una consulta\n",
    "                if in_query:\n",
    "                    fout.write(\" </TITLE>\\n</TOP>\\n\")\n",
    "                    in_query = False\n",
    "            elif in_query and not line.startswith(('.W', '.T')):\n",
    "                # Escribir el contenido de la consulta, ignorando líneas que comienzan con .W o .T\n",
    "                tokens = tokenize_line(line, queryId)\n",
    "                if tokens:\n",
    "                    fout.write(\" \".join(tokens))\n",
    "        \n",
    "        # Verificar si quedó una consulta sin terminar\n",
    "        if queryId and in_query:\n",
    "            fout.write(\" </TITLE>\\n</TOP>\\n\")\n",
    "\n",
    "def query_trec_frec(path):\n",
    "    filein = path + \"/CISI.QRY\"\n",
    "    with open(filein, 'r', encoding='utf-8') as fin, open(\"queriesfrec_CISI.trec\", \"w\", encoding='utf-8') as fout:\n",
    "        queryId = None\n",
    "        in_query = False\n",
    "        for line in fin:\n",
    "            tag = get_tag(line)\n",
    "            if tag == \"I\":\n",
    "                # Escribir el inicio de la consulta y marcar que estamos dentro de una consulta\n",
    "                if queryId:\n",
    "                    fout.write(\"</TITLE>\\n</TOP>\\n\")\n",
    "                queryId = get_query_id(line)\n",
    "                fout.write(f\"<TOP>\\n<NUM>{queryId}</NUM>\\n<TITLE> \")\n",
    "                in_query = True\n",
    "                unique_terms[queryId] = set()  # Limpiar los términos únicos para esta consulta\n",
    "            elif tag == \"B\":\n",
    "                # Escribir el fin de la consulta y marcar que no estamos dentro de una consulta\n",
    "                if in_query:\n",
    "                    fout.write(\" </TITLE>\\n</TOP>\\n\")\n",
    "                    in_query = False\n",
    "            elif in_query and not line.startswith(('.W', '.T')):\n",
    "                # Escribir el contenido de la consulta, ignorando líneas que comienzan con .W o .T\n",
    "                tokens = tokenize_line_frec(line,queryId)\n",
    "                if tokens:\n",
    "                    fout.write(\" \".join(tokens))\n",
    "        \n",
    "        # Verificar si quedó una consulta sin terminar\n",
    "        if queryId and in_query:\n",
    "            fout.write(\" </TITLE>\\n</TOP>\\n\")\n",
    "\n",
    "\n"
   ]
  },
  {
   "cell_type": "code",
   "execution_count": null,
   "metadata": {},
   "outputs": [],
   "source": [
    "query_trec(path)\n",
    "query_trec_frec(path)"
   ]
  },
  {
   "cell_type": "code",
   "execution_count": null,
   "metadata": {},
   "outputs": [],
   "source": [
    "files = \"archivo_salida.trec\"\n",
    "files"
   ]
  },
  {
   "cell_type": "code",
   "execution_count": null,
   "metadata": {},
   "outputs": [],
   "source": [
    "\n",
    "\n",
    "indexer = pt.TRECCollectionIndexer(\"C:/Users/Franco/Documents/UNLu/Recuperacion de informacion/TPs/RI/TP3/P3/index\", verbose=True, overwrite=True, meta={\"docno\":20, \"filename\":512})\n",
    "indexref = indexer.index(files)\n",
    "\n"
   ]
  },
  {
   "cell_type": "code",
   "execution_count": null,
   "metadata": {},
   "outputs": [],
   "source": [
    "index = pt.IndexFactory.of(indexref)\n",
    "print(index.getCollectionStatistics().toString())"
   ]
  },
  {
   "cell_type": "code",
   "execution_count": null,
   "metadata": {},
   "outputs": [],
   "source": [
    "tf_idf = pt.BatchRetrieve(index, num_results=10, wmodel=\"TF_IDF\")\n",
    "bm25 = pt.BatchRetrieve(index, num_results=10, wmodel=\"BM25\")\n",
    "hlm = pt.BatchRetrieve(index, num_results=10, wmodel=\"Hiemstra_LM\")"
   ]
  },
  {
   "cell_type": "code",
   "execution_count": null,
   "metadata": {},
   "outputs": [],
   "source": [
    "queries_sin_frec = pt.io.read_topics(\"queries_CISI.trec\")\n",
    "queries_con_frec = pt.io.read_topics(\"queriesfrec_CISI.trec\")\n",
    "\n",
    "qrels = pt.io.read_qrels(\"qrels_CISI\")"
   ]
  },
  {
   "cell_type": "code",
   "execution_count": null,
   "metadata": {},
   "outputs": [],
   "source": [
    "queries_con_frec"
   ]
  },
  {
   "cell_type": "code",
   "execution_count": null,
   "metadata": {},
   "outputs": [],
   "source": []
  },
  {
   "cell_type": "code",
   "execution_count": null,
   "metadata": {},
   "outputs": [],
   "source": [
    "## Queries con Frec\n",
    "\n",
    "eval_metrics = [\n",
    "    \"num_q\", \"num_ret\", \"num_rel\", \"num_rel_ret\", \"map\", \n",
    "    \"Rprec\", \"bpref\", \"recip_rank\", \"iprec_at_recall_0.00\", \n",
    "    \"iprec_at_recall_0.10\", \"iprec_at_recall_0.20\", \"iprec_at_recall_0.30\", \n",
    "    \"iprec_at_recall_0.40\", \"iprec_at_recall_0.50\", \"iprec_at_recall_0.60\", \n",
    "    \"iprec_at_recall_0.70\", \"iprec_at_recall_0.80\", \"iprec_at_recall_0.90\", \n",
    "    \"iprec_at_recall_1.00\", \"P_5\", \"P_10\", \"P_15\", \"P_20\", \"P_30\", \n",
    "    \"P_100\", \"P_200\", \"P_500\", \"P_1000\"\n",
    "]\n",
    "\n",
    "# Ejecutar el experimento solo para el sistema TF-IDF\n",
    "resultados_tfidf = pt.Experiment(\n",
    "    [tf_idf],\n",
    "    queries_con_frec,\n",
    "    qrels,\n",
    "    eval_metrics=eval_metrics,\n",
    "    names=[\"TF_IDF\"]\n",
    ")\n",
    "resultados_tfidf"
   ]
  },
  {
   "cell_type": "code",
   "execution_count": null,
   "metadata": {},
   "outputs": [],
   "source": [
    "resultados_bm25 = pt.Experiment(\n",
    "    [bm25],\n",
    "    queries_con_frec,\n",
    "    qrels,\n",
    "    eval_metrics=eval_metrics,\n",
    "    names=[\"BM25\"]\n",
    ")\n",
    "\n",
    "resultados_hlm = pt.Experiment(\n",
    "    [hlm],\n",
    "    queries_con_frec,\n",
    "    qrels,\n",
    "    eval_metrics=eval_metrics,\n",
    "    names=[\"Hiemstra_LM\"]\n",
    ")"
   ]
  },
  {
   "cell_type": "code",
   "execution_count": null,
   "metadata": {},
   "outputs": [],
   "source": []
  },
  {
   "cell_type": "code",
   "execution_count": null,
   "metadata": {},
   "outputs": [],
   "source": []
  },
  {
   "cell_type": "code",
   "execution_count": null,
   "metadata": {},
   "outputs": [],
   "source": [
    "# Mostrar R–P en los 11 puntos standard\n",
    "df_11puntos_tfidf = resultados_tfidf.melt(value_vars=[\"iprec_at_recall_0.10\", \"iprec_at_recall_0.20\", \"iprec_at_recall_0.30\", \n",
    "                                    \"iprec_at_recall_0.40\", \"iprec_at_recall_0.50\", \"iprec_at_recall_0.60\", \n",
    "                                    \"iprec_at_recall_0.70\", \"iprec_at_recall_0.80\", \"iprec_at_recall_0.90\", \n",
    "                                    \"iprec_at_recall_1.00\"], var_name=\"Recall\", value_name=\"Precision\")\n",
    "# Modificar los valores de recall\n",
    "df_11puntos_tfidf['Recall'] = df_11puntos_tfidf['Recall'].apply(lambda x: float(x.split('_')[-1]))"
   ]
  },
  {
   "cell_type": "code",
   "execution_count": null,
   "metadata": {},
   "outputs": [],
   "source": [
    "df_11puntos_bm25 = resultados_bm25.melt(value_vars=[\"iprec_at_recall_0.10\", \"iprec_at_recall_0.20\", \"iprec_at_recall_0.30\", \n",
    "                                    \"iprec_at_recall_0.40\", \"iprec_at_recall_0.50\", \"iprec_at_recall_0.60\", \n",
    "                                    \"iprec_at_recall_0.70\", \"iprec_at_recall_0.80\", \"iprec_at_recall_0.90\", \n",
    "                                    \"iprec_at_recall_1.00\"], var_name=\"Recall\", value_name=\"Precision\")\n",
    "# Modificar los valores de recall\n",
    "df_11puntos_bm25['Recall'] = df_11puntos_bm25['Recall'].apply(lambda x: float(x.split('_')[-1]))\n",
    "\n",
    "df_11puntos_hlm = resultados_hlm.melt(value_vars=[\"iprec_at_recall_0.10\", \"iprec_at_recall_0.20\", \"iprec_at_recall_0.30\", \n",
    "                                    \"iprec_at_recall_0.40\", \"iprec_at_recall_0.50\", \"iprec_at_recall_0.60\", \n",
    "                                    \"iprec_at_recall_0.70\", \"iprec_at_recall_0.80\", \"iprec_at_recall_0.90\", \n",
    "                                    \"iprec_at_recall_1.00\"], var_name=\"Recall\", value_name=\"Precision\")\n",
    "# Modificar los valores de recall\n",
    "df_11puntos_hlm['Recall'] = df_11puntos_hlm['Recall'].apply(lambda x: float(x.split('_')[-1]))"
   ]
  },
  {
   "cell_type": "code",
   "execution_count": null,
   "metadata": {},
   "outputs": [],
   "source": [
    "# Crear el gráfico de líneas\n",
    "plt.figure(figsize=(10, 6))  # Establecer el tamaño del gráfico\n",
    "plt.plot(df_11puntos_tfidf['Recall'], df_11puntos_tfidf['Precision'], marker='o', linestyle='-', label='TFIDF')  # Graficar Recall vs Precision\n",
    "plt.plot(df_11puntos_tfidf['Recall'], df_11puntos_hlm['Precision'], marker='x', linestyle='-', label='HLM')  # Graficar Recall vs Precision\n",
    "plt.plot(df_11puntos_bm25['Recall'], df_11puntos_bm25['Precision'], marker='x', linestyle='-', label='BM25')  # Graficar Recall vs Precision\n",
    "plt.title('Con Frecuencias')  # Establecer el título del gráfico\n",
    "plt.xlabel('Recall')  # Etiqueta del eje x\n",
    "plt.ylabel('Precision')  # Etiqueta del eje y\n",
    "plt.grid(True)  # Activar la cuadrícula en el gráfico\n",
    "plt.legend()  # Mostrar leyenda\n",
    "plt.show()  # Mostrar el gráfico"
   ]
  },
  {
   "cell_type": "code",
   "execution_count": null,
   "metadata": {},
   "outputs": [],
   "source": [
    "## Queries sin Frec\n",
    "\n",
    "# Ejecutar el experimento solo para el sistema TF-IDF\n",
    "resultados_tfidf_sin_frecs = pt.Experiment(\n",
    "    [tf_idf],\n",
    "    queries_sin_frec,\n",
    "    qrels,\n",
    "    eval_metrics=eval_metrics,\n",
    "    names=[\"TF_IDF\"]\n",
    ")\n",
    "\n",
    "resultados_hlm_sin_frecs = pt.Experiment(\n",
    "    [hlm],\n",
    "    queries_sin_frec,\n",
    "    qrels,\n",
    "    eval_metrics=eval_metrics,\n",
    "    names=[\"Hiemstra_LM\"]\n",
    ")\n",
    "\n",
    "resultados_bm25_sin_frecs = pt.Experiment(\n",
    "    [bm25],\n",
    "    queries_sin_frec,\n",
    "    qrels,\n",
    "    eval_metrics=eval_metrics,\n",
    "    names=[\"BM25\"]\n",
    ")\n"
   ]
  },
  {
   "cell_type": "code",
   "execution_count": null,
   "metadata": {},
   "outputs": [],
   "source": []
  },
  {
   "cell_type": "code",
   "execution_count": null,
   "metadata": {},
   "outputs": [],
   "source": [
    "df_11puntos_sin_frec_tfidf = resultados_tfidf_sin_frecs.melt(value_vars=[\"iprec_at_recall_0.10\", \"iprec_at_recall_0.20\", \"iprec_at_recall_0.30\", \n",
    "                                    \"iprec_at_recall_0.40\", \"iprec_at_recall_0.50\", \"iprec_at_recall_0.60\", \n",
    "                                    \"iprec_at_recall_0.70\", \"iprec_at_recall_0.80\", \"iprec_at_recall_0.90\", \n",
    "                                    \"iprec_at_recall_1.00\"], var_name=\"Recall\", value_name=\"Precision\")\n",
    "\n",
    "df_11puntos_sin_frec_tfidf['Recall'] = df_11puntos_sin_frec_tfidf['Recall'].apply(lambda x: float(x.split('_')[-1]))\n",
    "\n",
    "df_11puntos_sin_frec_bm25 = resultados_bm25_sin_frecs.melt(value_vars=[\"iprec_at_recall_0.10\", \"iprec_at_recall_0.20\", \"iprec_at_recall_0.30\", \n",
    "                                    \"iprec_at_recall_0.40\", \"iprec_at_recall_0.50\", \"iprec_at_recall_0.60\", \n",
    "                                    \"iprec_at_recall_0.70\", \"iprec_at_recall_0.80\", \"iprec_at_recall_0.90\", \n",
    "                                    \"iprec_at_recall_1.00\"], var_name=\"Recall\", value_name=\"Precision\")\n",
    "\n",
    "df_11puntos_sin_frec_bm25['Recall'] = df_11puntos_sin_frec_bm25['Recall'].apply(lambda x: float(x.split('_')[-1]))\n",
    "\n",
    "\n",
    "df_11puntos_sin_frec_hlm = resultados_hlm_sin_frecs.melt(value_vars=[\"iprec_at_recall_0.10\", \"iprec_at_recall_0.20\", \"iprec_at_recall_0.30\", \n",
    "                                    \"iprec_at_recall_0.40\", \"iprec_at_recall_0.50\", \"iprec_at_recall_0.60\", \n",
    "                                    \"iprec_at_recall_0.70\", \"iprec_at_recall_0.80\", \"iprec_at_recall_0.90\", \n",
    "                                    \"iprec_at_recall_1.00\"], var_name=\"Recall\", value_name=\"Precision\")\n",
    "\n",
    "df_11puntos_sin_frec_hlm['Recall'] = df_11puntos_sin_frec_hlm['Recall'].apply(lambda x: float(x.split('_')[-1]))\n",
    "\n"
   ]
  },
  {
   "cell_type": "code",
   "execution_count": null,
   "metadata": {},
   "outputs": [],
   "source": [
    "# Crear el gráfico de líneas\n",
    "plt.figure(figsize=(10, 6))  # Establecer el tamaño del gráfico\n",
    "plt.plot(df_11puntos_sin_frec_tfidf['Recall'], df_11puntos_sin_frec_tfidf['Precision'], marker='o', linestyle='-', label='TFIDF')  # Graficar la primera línea\n",
    "plt.plot(df_11puntos_sin_frec_hlm['Recall'], df_11puntos_sin_frec_hlm['Precision'], marker='x', linestyle='-', label='HLM')  # Graficar la segunda línea\n",
    "plt.plot(df_11puntos_sin_frec_bm25['Recall'], df_11puntos_sin_frec_bm25['Precision'], marker='x', linestyle='-', label='BM25')  # Graficar la segunda línea\n",
    "plt.title('Sin Frecuencias')  # Establecer el título del gráfico\n",
    "plt.xlabel('Recall')  # Etiqueta del eje x\n",
    "plt.ylabel('Precision')  # Etiqueta del eje y\n",
    "plt.grid(True)  # Activar la cuadrícula en el gráfico\n",
    "plt.legend()  # Mostrar leyenda\n",
    "plt.show()  # Mostrar el gráfico"
   ]
  },
  {
   "cell_type": "code",
   "execution_count": null,
   "metadata": {},
   "outputs": [],
   "source": []
  },
  {
   "cell_type": "code",
   "execution_count": null,
   "metadata": {},
   "outputs": [],
   "source": []
  }
 ],
 "metadata": {
  "kernelspec": {
   "display_name": "Python 3",
   "language": "python",
   "name": "python3"
  },
  "language_info": {
   "codemirror_mode": {
    "name": "ipython",
    "version": 3
   },
   "file_extension": ".py",
   "mimetype": "text/x-python",
   "name": "python",
   "nbconvert_exporter": "python",
   "pygments_lexer": "ipython3",
   "version": "3.10.12"
  }
 },
 "nbformat": 4,
 "nbformat_minor": 2
}
