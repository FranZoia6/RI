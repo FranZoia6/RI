{
 "cells": [
  {
   "cell_type": "code",
   "execution_count": 1,
   "id": "c6b08c4f-b60f-4ffc-b925-ec362f30cc86",
   "metadata": {},
   "outputs": [],
   "source": [
    "root_dir = \"cisi/CISI.ALL\"\n",
    "\n",
    "output_trec_file = \"ejemplo.trec\"\n",
    "\n",
    "def enumerate_html_files(directory):\n",
    "    document_id = 1\n",
    "    with open(output_trec_file, 'w') as trec_file:\n",
    "        with open(directory) as file:\n",
    "            content = file.read()\n",
    "            documents = content.split('.I ')[1:]\n",
    "            for doc in documents:\n",
    "                trec_file.write(f\"<DOC>\\n\")\n",
    "                trec_file.write(f\"<DOCNO>{document_id}</DOCNO>\\n\")\n",
    "                trec_file.write(f\"<TEXT>\\n\")\n",
    "                trec_file.write(f\"{doc}\\n\")\n",
    "                trec_file.write(f\"</TEXT>\\n\")\n",
    "                trec_file.write(f\"</DOC>\\n\")\n",
    "                document_id += 1\n",
    "\n",
    "enumerate_html_files(root_dir)\n",
    "\n"
   ]
  },
  {
   "cell_type": "code",
   "execution_count": 2,
   "id": "7e4dae25-f8ae-4440-b75e-03f475486630",
   "metadata": {},
   "outputs": [
    {
     "name": "stderr",
     "output_type": "stream",
     "text": [
      "PyTerrier 0.10.0 has loaded Terrier 5.8 (built by craigm on 2023-11-01 18:05) and terrier-helper 0.0.8\n",
      "\n",
      "No etc/terrier.properties, using terrier.default.properties for bootstrap configuration.\n",
      "2files [00:02,  1.14s/files]            \n"
     ]
    }
   ],
   "source": [
    "import pyterrier as pt\n",
    "\n",
    "# Ruta al archivo TREC que deseas indexar\n",
    "trec_file_path = \"/home/franco/Documentos/Recuperacion de Informacion/TP1/RI/TP2/P9/ejemplo.trec\"\n",
    "\n",
    "# Iniciar PyTerrier si aún no se ha iniciado\n",
    "if not pt.started():\n",
    "    pt.init()\n",
    "\n",
    "# Crear el indexador de la colección TREC\n",
    "indexer = pt.TRECCollectionIndexer(\"./custom_trec_index\", verbose=True, overwrite=True)\n",
    "\n",
    "# Indexar el archivo TREC\n",
    "indexref = indexer.index(trec_file_path)\n"
   ]
  },
  {
   "cell_type": "code",
   "execution_count": 3,
   "id": "20d14855",
   "metadata": {},
   "outputs": [
    {
     "name": "stdout",
     "output_type": "stream",
     "text": [
      "Number of documents: 1460\n",
      "Number of terms: 8241\n",
      "Number of postings: 157394\n",
      "Number of fields: 0\n",
      "Number of tokens: 341821\n",
      "Field names: []\n",
      "Positions:   false\n",
      "\n"
     ]
    }
   ],
   "source": [
    "index = pt.IndexFactory.of(indexref)\n",
    "print(index.getCollectionStatistics().toString())"
   ]
  },
  {
   "cell_type": "code",
   "execution_count": 15,
   "id": "d106ce8c-bbcc-4067-8878-f773ca05e18a",
   "metadata": {},
   "outputs": [
    {
     "ename": "KeyError",
     "evalue": "'cisi'",
     "output_type": "error",
     "traceback": [
      "\u001b[0;31m---------------------------------------------------------------------------\u001b[0m",
      "\u001b[0;31mKeyError\u001b[0m                                  Traceback (most recent call last)",
      "Cell \u001b[0;32mIn[15], line 3\u001b[0m\n\u001b[1;32m      1\u001b[0m \u001b[38;5;66;03m# ad-hoc retrieval\u001b[39;00m\n\u001b[1;32m      2\u001b[0m \u001b[38;5;28;01mimport\u001b[39;00m \u001b[38;5;21;01mnumpy\u001b[39;00m \u001b[38;5;28;01mas\u001b[39;00m \u001b[38;5;21;01mnp\u001b[39;00m\n\u001b[0;32m----> 3\u001b[0m dataset \u001b[38;5;241m=\u001b[39m \u001b[43mpt\u001b[49m\u001b[38;5;241;43m.\u001b[39;49m\u001b[43mget_dataset\u001b[49m\u001b[43m(\u001b[49m\u001b[38;5;124;43m\"\u001b[39;49m\u001b[38;5;124;43mcisi\u001b[39;49m\u001b[38;5;124;43m\"\u001b[39;49m\u001b[43m)\u001b[49m\n\u001b[1;32m      4\u001b[0m tfidf \u001b[38;5;241m=\u001b[39m  pt\u001b[38;5;241m.\u001b[39mBatchRetrieve(index, num_results\u001b[38;5;241m=\u001b[39m\u001b[38;5;241m50\u001b[39m, wmodel\u001b[38;5;241m=\u001b[39m\u001b[38;5;124m\"\u001b[39m\u001b[38;5;124mTF_IDF\u001b[39m\u001b[38;5;124m\"\u001b[39m)\n\u001b[1;32m      5\u001b[0m bm25 \u001b[38;5;241m=\u001b[39m  pt\u001b[38;5;241m.\u001b[39mBatchRetrieve(index, num_results\u001b[38;5;241m=\u001b[39m\u001b[38;5;241m50\u001b[39m, wmodel\u001b[38;5;241m=\u001b[39m\u001b[38;5;124m\"\u001b[39m\u001b[38;5;124mBM25\u001b[39m\u001b[38;5;124m\"\u001b[39m)\n",
      "File \u001b[0;32m~/.local/lib/python3.10/site-packages/pyterrier/datasets.py:1101\u001b[0m, in \u001b[0;36mget_dataset\u001b[0;34m(name, **kwargs)\u001b[0m\n\u001b[1;32m   1099\u001b[0m     ds_id \u001b[38;5;241m=\u001b[39m name[\u001b[38;5;28mlen\u001b[39m(\u001b[38;5;124m'\u001b[39m\u001b[38;5;124mirds:\u001b[39m\u001b[38;5;124m'\u001b[39m):]\n\u001b[1;32m   1100\u001b[0m     DATASET_MAP[name] \u001b[38;5;241m=\u001b[39m IRDSDataset(ds_id)\n\u001b[0;32m-> 1101\u001b[0m rtr \u001b[38;5;241m=\u001b[39m \u001b[43mDATASET_MAP\u001b[49m\u001b[43m[\u001b[49m\u001b[43mname\u001b[49m\u001b[43m]\u001b[49m\n\u001b[1;32m   1102\u001b[0m rtr\u001b[38;5;241m.\u001b[39m_configure(\u001b[38;5;241m*\u001b[39m\u001b[38;5;241m*\u001b[39mkwargs)\n\u001b[1;32m   1103\u001b[0m \u001b[38;5;28;01mreturn\u001b[39;00m rtr\n",
      "\u001b[0;31mKeyError\u001b[0m: 'cisi'"
     ]
    }
   ],
   "source": [
    "# ad-hoc retrieval\n",
    "import numpy as np\n",
    "dataset = pt.get_dataset(\"cisi\")\n",
    "tfidf =  pt.BatchRetrieve(index, num_results=50, wmodel=\"TF_IDF\")\n",
    "bm25 =  pt.BatchRetrieve(index, num_results=50, wmodel=\"BM25\")\n",
    "results = pt.Experiment([tfidf,bm25],dataset.get_topics(),dataset.get_qrels(),eval_metrics=[\"recall\"])\n",
    "results"
   ]
  },
  {
   "cell_type": "code",
   "execution_count": 9,
   "id": "ee4b8ff9",
   "metadata": {},
   "outputs": [
    {
     "data": {
      "text/plain": [
       "[['1', 896, '897', 0, 6.217609234782481, 'software'],\n",
       " ['1', 879, '880', 1, 4.548932169303531, 'software'],\n",
       " ['1', 686, '687', 2, 4.540352177347016, 'software'],\n",
       " ['1', 527, '528', 3, 4.207225939766441, 'software'],\n",
       " ['1', 701, '702', 4, 3.795772850092562, 'software'],\n",
       " ['1', 375, '376', 5, 3.760197433598759, 'software'],\n",
       " ['1', 511, '512', 6, 2.094712444265083, 'software']]"
      ]
     },
     "execution_count": 9,
     "metadata": {},
     "output_type": "execute_result"
    }
   ],
   "source": [
    "tfidf = np.array(results)\n",
    "tfidf.tolist()"
   ]
  }
 ],
 "metadata": {
  "kernelspec": {
   "display_name": "Python 3 (ipykernel)",
   "language": "python",
   "name": "python3"
  },
  "language_info": {
   "codemirror_mode": {
    "name": "ipython",
    "version": 3
   },
   "file_extension": ".py",
   "mimetype": "text/x-python",
   "name": "python",
   "nbconvert_exporter": "python",
   "pygments_lexer": "ipython3",
   "version": "3.10.12"
  }
 },
 "nbformat": 4,
 "nbformat_minor": 5
}
