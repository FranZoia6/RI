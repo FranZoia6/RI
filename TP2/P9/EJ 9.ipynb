{
 "cells": [
  {
   "cell_type": "code",
   "execution_count": null,
   "metadata": {},
   "outputs": [],
   "source": [
    "import pyterrier as pt\n",
    "import matplotlib.pyplot as plt\n",
    "from os import listdir\n",
    "from os.path import join, isdir\n",
    "import sys\n",
    "if not pt.started():\n",
    "    pt.init()"
   ]
  },
  {
   "cell_type": "code",
   "execution_count": null,
   "metadata": {},
   "outputs": [],
   "source": [
    "files = \"archivo_salida.trec\"\n",
    "files"
   ]
  },
  {
   "cell_type": "code",
   "execution_count": null,
   "metadata": {},
   "outputs": [],
   "source": [
    "\n",
    "\n",
    "indexer = pt.TRECCollectionIndexer(\"/home/franco/Documentos/UNLu/Recuperacion de Informacion/TP1/RI/TP2/P9/index\", verbose=True, overwrite=True, meta={\"docno\":20, \"filename\":512})\n",
    "indexref = indexer.index(files)\n",
    "\n"
   ]
  },
  {
   "cell_type": "code",
   "execution_count": null,
   "metadata": {},
   "outputs": [],
   "source": [
    "index = pt.IndexFactory.of(indexref)\n",
    "print(index.getCollectionStatistics().toString())"
   ]
  },
  {
   "cell_type": "code",
   "execution_count": null,
   "metadata": {},
   "outputs": [],
   "source": [
    "tf_idf = pt.BatchRetrieve(index, num_results=10, wmodel=\"TF_IDF\")\n",
    "bm25 = pt.BatchRetrieve(index, num_results=10, wmodel=\"BM25\")"
   ]
  },
  {
   "cell_type": "code",
   "execution_count": null,
   "metadata": {},
   "outputs": [],
   "source": [
    "queries_sin_frec = pt.io.read_topics(\"queries_CISI.trec\")\n",
    "queries_con_frec = pt.io.read_topics(\"queriesfrec_CISI.trec\")\n",
    "\n",
    "qrels = pt.io.read_qrels(\"qrels_CISI\")"
   ]
  },
  {
   "cell_type": "code",
   "execution_count": null,
   "metadata": {},
   "outputs": [],
   "source": [
    "queries_con_frec"
   ]
  },
  {
   "cell_type": "code",
   "execution_count": null,
   "metadata": {},
   "outputs": [],
   "source": [
    "print(qrels)"
   ]
  },
  {
   "cell_type": "code",
   "execution_count": null,
   "metadata": {},
   "outputs": [],
   "source": [
    "## Queries con Frec\n",
    "\n",
    "eval_metrics = [\n",
    "    \"num_q\", \"num_ret\", \"num_rel\", \"num_rel_ret\", \"map\", \n",
    "    \"Rprec\", \"bpref\", \"recip_rank\", \"iprec_at_recall_0.00\", \n",
    "    \"iprec_at_recall_0.10\", \"iprec_at_recall_0.20\", \"iprec_at_recall_0.30\", \n",
    "    \"iprec_at_recall_0.40\", \"iprec_at_recall_0.50\", \"iprec_at_recall_0.60\", \n",
    "    \"iprec_at_recall_0.70\", \"iprec_at_recall_0.80\", \"iprec_at_recall_0.90\", \n",
    "    \"iprec_at_recall_1.00\", \"P_5\", \"P_10\", \"P_15\", \"P_20\", \"P_30\", \n",
    "    \"P_100\", \"P_200\", \"P_500\", \"P_1000\"\n",
    "]\n",
    "\n",
    "# Ejecutar el experimento solo para el sistema TF-IDF\n",
    "resultados_tfidf = pt.Experiment(\n",
    "    [tf_idf],\n",
    "    queries_con_frec,\n",
    "    qrels,\n",
    "    eval_metrics=eval_metrics,\n",
    "    names=[\"TF_IDF\"]\n",
    ")\n",
    "resultados_tfidf"
   ]
  },
  {
   "cell_type": "code",
   "execution_count": null,
   "metadata": {},
   "outputs": [],
   "source": [
    "# Mostrar Tabla de P@X\n",
    "tabla = resultados_tfidf.melt(value_vars=[\"P_5\", \"P_10\", \"P_15\", \n",
    "                                    \"P_20\", \"P_30\", \"P_100\", \n",
    "                                    \"P_200\", \"P_500\", \"P_1000\"], var_name=\"P@X\", value_name=\"Value\")\n",
    "tabla"
   ]
  },
  {
   "cell_type": "code",
   "execution_count": null,
   "metadata": {},
   "outputs": [],
   "source": [
    "df_11puntos = resultados_tfidf.melt(value_vars=[\"iprec_at_recall_0.10\", \"iprec_at_recall_0.20\", \"iprec_at_recall_0.30\", \n",
    "                                    \"iprec_at_recall_0.40\", \"iprec_at_recall_0.50\", \"iprec_at_recall_0.60\", \n",
    "                                    \"iprec_at_recall_0.70\", \"iprec_at_recall_0.80\", \"iprec_at_recall_0.90\", \n",
    "                                    \"iprec_at_recall_1.00\"], var_name=\"Recall\", value_name=\"Precision\")\n",
    "\n",
    "df_11puntos['Recall'] = df_11puntos['Recall'].apply(lambda x: float(x.split('_')[-1]))\n",
    "\n",
    "df_11puntos"
   ]
  },
  {
   "cell_type": "code",
   "execution_count": null,
   "metadata": {},
   "outputs": [],
   "source": [
    "# Crear el gráfico de líneas\n",
    "plt.figure(figsize=(10, 6))  # Establecer el tamaño del gráfico\n",
    "plt.plot(df_11puntos['Recall'], df_11puntos['Precision'], marker='o', linestyle='-')  # Graficar Recall vs Precision\n",
    "plt.title('Recall vs Precision - Con Frecuencias')  # Establecer el título del gráfico\n",
    "plt.xlabel('Recall')  # Etiqueta del eje x\n",
    "plt.ylabel('Precision')  # Etiqueta del eje y\n",
    "plt.grid(True)  # Activar la cuadrícula en el gráfico\n",
    "plt.show()  # Mostrar el gráfico"
   ]
  },
  {
   "cell_type": "code",
   "execution_count": null,
   "metadata": {},
   "outputs": [],
   "source": [
    "## Queries sin Frec\n",
    "\n",
    "# Ejecutar el experimento solo para el sistema TF-IDF\n",
    "resultados_tfidf_sin_frecs = pt.Experiment(\n",
    "    [tf_idf],\n",
    "    queries_sin_frec,\n",
    "    qrels,\n",
    "    eval_metrics=eval_metrics,\n",
    "    names=[\"TF_IDF\"]\n",
    ")\n",
    "resultados_tfidf_sin_frecs"
   ]
  },
  {
   "cell_type": "code",
   "execution_count": null,
   "metadata": {},
   "outputs": [],
   "source": [
    "# Mostrar Tabla de P@X\n",
    "tabla = resultados_tfidf_sin_frecs.melt(value_vars=[\"P_5\", \"P_10\", \"P_15\", \n",
    "                                    \"P_20\", \"P_30\", \"P_100\", \n",
    "                                    \"P_200\", \"P_500\", \"P_1000\"], var_name=\"P@X\", value_name=\"Value\")\n",
    "tabla"
   ]
  },
  {
   "cell_type": "code",
   "execution_count": null,
   "metadata": {},
   "outputs": [],
   "source": [
    "# Mostrar R–P en los 11 puntos standard\n",
    "df_11puntos_sin_frec = resultados_tfidf_sin_frecs.melt(value_vars=[\"iprec_at_recall_0.10\", \"iprec_at_recall_0.20\", \"iprec_at_recall_0.30\", \n",
    "                                    \"iprec_at_recall_0.40\", \"iprec_at_recall_0.50\", \"iprec_at_recall_0.60\", \n",
    "                                    \"iprec_at_recall_0.70\", \"iprec_at_recall_0.80\", \"iprec_at_recall_0.90\", \n",
    "                                    \"iprec_at_recall_1.00\"], var_name=\"Recall\", value_name=\"Precision\")\n",
    "# Modificar los valores de recall\n",
    "df_11puntos_sin_frec['Recall'] = df_11puntos_sin_frec['Recall'].apply(lambda x: float(x.split('_')[-1]))\n",
    "\n",
    "df_11puntos_sin_frec"
   ]
  },
  {
   "cell_type": "code",
   "execution_count": null,
   "metadata": {},
   "outputs": [],
   "source": [
    "# Crear el gráfico de líneas\n",
    "plt.figure(figsize=(10, 6))  # Establecer el tamaño del gráfico\n",
    "plt.plot(df_11puntos_sin_frec['Recall'], df_11puntos_sin_frec['Precision'], marker='o', linestyle='-', label='Sin Frecs')  # Graficar la primera línea\n",
    "plt.plot(df_11puntos['Recall'], df_11puntos['Precision'], marker='x', linestyle='-', label='Con Frecs')  # Graficar la segunda línea\n",
    "plt.title('Recall vs Precision')  # Establecer el título del gráfico\n",
    "plt.xlabel('Recall')  # Etiqueta del eje x\n",
    "plt.ylabel('Precision')  # Etiqueta del eje y\n",
    "plt.grid(True)  # Activar la cuadrícula en el gráfico\n",
    "plt.legend()  # Mostrar leyenda\n",
    "plt.show()  # Mostrar el gráfico"
   ]
  },
  {
   "cell_type": "code",
   "execution_count": null,
   "metadata": {},
   "outputs": [],
   "source": [
    "def graficar_recall(df):\n",
    "    plt.plot(df.index, df['Recall'], marker='o', linestyle='-', label='Recall')\n",
    "\n",
    "def graficar_precision(df):\n",
    "    plt.plot(df.index, df['Precision'], marker='o', linestyle='-', label='Precision')\n",
    "\n",
    "# Llamamos a las funciones para trazar las líneas\n",
    "graficar_recall(df_11puntos_sin_frec)\n",
    "graficar_precision(df_11puntos_sin_frec)\n",
    "\n",
    "# Añadir etiquetas, título, leyenda y mostrar el gráfico\n",
    "plt.xlabel('Número de documentos')\n",
    "plt.ylabel('Valor')\n",
    "plt.title('Recall y Precisión para documentos')\n",
    "plt.legend()\n",
    "plt.grid(True)\n",
    "plt.show()"
   ]
  },
  {
   "cell_type": "code",
   "execution_count": null,
   "metadata": {},
   "outputs": [],
   "source": []
  }
 ],
 "metadata": {
  "kernelspec": {
   "display_name": "Python 3",
   "language": "python",
   "name": "python3"
  },
  "language_info": {
   "codemirror_mode": {
    "name": "ipython",
    "version": 3
   },
   "file_extension": ".py",
   "mimetype": "text/x-python",
   "name": "python",
   "nbconvert_exporter": "python",
   "pygments_lexer": "ipython3",
   "version": "3.10.12"
  }
 },
 "nbformat": 4,
 "nbformat_minor": 2
}
