{
 "cells": [
  {
   "cell_type": "code",
   "execution_count": 1,
   "metadata": {},
   "outputs": [
    {
     "name": "stderr",
     "output_type": "stream",
     "text": [
      "PyTerrier 0.10.0 has loaded Terrier 5.8 (built by craigm on 2023-11-01 18:05) and terrier-helper 0.0.8\n",
      "\n",
      "No etc/terrier.properties, using terrier.default.properties for bootstrap configuration.\n"
     ]
    }
   ],
   "source": [
    "import pyterrier as pt\n",
    "import matplotlib.pyplot as plt\n",
    "from os import listdir\n",
    "from os.path import join, isdir\n",
    "import sys\n",
    "if not pt.started():\n",
    "    pt.init()"
   ]
  },
  {
   "cell_type": "code",
   "execution_count": 2,
   "metadata": {},
   "outputs": [
    {
     "data": {
      "text/plain": [
       "'archivo_salida.trec'"
      ]
     },
     "execution_count": 2,
     "metadata": {},
     "output_type": "execute_result"
    }
   ],
   "source": [
    "files = \"archivo_salida.trec\"\n",
    "files"
   ]
  },
  {
   "cell_type": "code",
   "execution_count": 3,
   "metadata": {},
   "outputs": [
    {
     "name": "stderr",
     "output_type": "stream",
     "text": [
      "2files [00:03,  1.70s/files]            \n"
     ]
    }
   ],
   "source": [
    "\n",
    "\n",
    "indexer = pt.TRECCollectionIndexer(\"/home/franco/Documentos/UNLu/Recuperacion de Informacion/TP1/RI/TP2/P9/index\", verbose=True, overwrite=True, meta={\"docno\":20, \"filename\":512})\n",
    "indexref = indexer.index(files)\n",
    "\n"
   ]
  },
  {
   "cell_type": "code",
   "execution_count": 4,
   "metadata": {},
   "outputs": [
    {
     "name": "stdout",
     "output_type": "stream",
     "text": [
      "Number of documents: 1460\n",
      "Number of terms: 8241\n",
      "Number of postings: 157394\n",
      "Number of fields: 0\n",
      "Number of tokens: 341821\n",
      "Field names: []\n",
      "Positions:   false\n",
      "\n"
     ]
    }
   ],
   "source": [
    "index = pt.IndexFactory.of(indexref)\n",
    "print(index.getCollectionStatistics().toString())"
   ]
  },
  {
   "cell_type": "code",
   "execution_count": 5,
   "metadata": {},
   "outputs": [],
   "source": [
    "tf_idf = pt.BatchRetrieve(index, num_results=10, wmodel=\"TF_IDF\")\n",
    "bm25 = pt.BatchRetrieve(index, num_results=10, wmodel=\"BM25\")"
   ]
  },
  {
   "cell_type": "code",
   "execution_count": 6,
   "metadata": {},
   "outputs": [],
   "source": [
    "queries_sin_frec = pt.io.read_topics(\"queries_CISI.trec\")\n",
    "queries_con_frec = pt.io.read_topics(\"queriesfrec_CISI.trec\")\n",
    "\n",
    "qrels = pt.io.read_qrels(\"qrels_CISI\")"
   ]
  },
  {
   "cell_type": "code",
   "execution_count": 7,
   "metadata": {},
   "outputs": [
    {
     "data": {
      "text/html": [
       "<div>\n",
       "<style scoped>\n",
       "    .dataframe tbody tr th:only-of-type {\n",
       "        vertical-align: middle;\n",
       "    }\n",
       "\n",
       "    .dataframe tbody tr th {\n",
       "        vertical-align: top;\n",
       "    }\n",
       "\n",
       "    .dataframe thead th {\n",
       "        text-align: right;\n",
       "    }\n",
       "</style>\n",
       "<table border=\"1\" class=\"dataframe\">\n",
       "  <thead>\n",
       "    <tr style=\"text-align: right;\">\n",
       "      <th></th>\n",
       "      <th>qid</th>\n",
       "      <th>query</th>\n",
       "    </tr>\n",
       "  </thead>\n",
       "  <tbody>\n",
       "    <tr>\n",
       "      <th>0</th>\n",
       "      <td>1</td>\n",
       "      <td>what problems and concerns are there in making...</td>\n",
       "    </tr>\n",
       "    <tr>\n",
       "      <th>1</th>\n",
       "      <td>2</td>\n",
       "      <td>how can actually pertinent data as opposed to ...</td>\n",
       "    </tr>\n",
       "    <tr>\n",
       "      <th>2</th>\n",
       "      <td>3</td>\n",
       "      <td>what is information science give definitions w...</td>\n",
       "    </tr>\n",
       "    <tr>\n",
       "      <th>3</th>\n",
       "      <td>4</td>\n",
       "      <td>image recognition and any other methods of pri...</td>\n",
       "    </tr>\n",
       "    <tr>\n",
       "      <th>4</th>\n",
       "      <td>5</td>\n",
       "      <td>what special training will ordinary researcher...</td>\n",
       "    </tr>\n",
       "    <tr>\n",
       "      <th>...</th>\n",
       "      <td>...</td>\n",
       "      <td>...</td>\n",
       "    </tr>\n",
       "    <tr>\n",
       "      <th>107</th>\n",
       "      <td>108</td>\n",
       "      <td>program for machinemediated searchingtoliver d...</td>\n",
       "    </tr>\n",
       "    <tr>\n",
       "      <th>108</th>\n",
       "      <td>109</td>\n",
       "      <td>author cocitation literature measure of intell...</td>\n",
       "    </tr>\n",
       "    <tr>\n",
       "      <th>109</th>\n",
       "      <td>110</td>\n",
       "      <td>progress in documentation word processingan in...</td>\n",
       "    </tr>\n",
       "    <tr>\n",
       "      <th>110</th>\n",
       "      <td>111</td>\n",
       "      <td>document clustering using an inverted file app...</td>\n",
       "    </tr>\n",
       "    <tr>\n",
       "      <th>111</th>\n",
       "      <td>112</td>\n",
       "      <td>fast procedure for the calculation of similari...</td>\n",
       "    </tr>\n",
       "  </tbody>\n",
       "</table>\n",
       "<p>112 rows × 2 columns</p>\n",
       "</div>"
      ],
      "text/plain": [
       "     qid                                              query\n",
       "0      1  what problems and concerns are there in making...\n",
       "1      2  how can actually pertinent data as opposed to ...\n",
       "2      3  what is information science give definitions w...\n",
       "3      4  image recognition and any other methods of pri...\n",
       "4      5  what special training will ordinary researcher...\n",
       "..   ...                                                ...\n",
       "107  108  program for machinemediated searchingtoliver d...\n",
       "108  109  author cocitation literature measure of intell...\n",
       "109  110  progress in documentation word processingan in...\n",
       "110  111  document clustering using an inverted file app...\n",
       "111  112  fast procedure for the calculation of similari...\n",
       "\n",
       "[112 rows x 2 columns]"
      ]
     },
     "execution_count": 7,
     "metadata": {},
     "output_type": "execute_result"
    }
   ],
   "source": [
    "queries_con_frec"
   ]
  },
  {
   "cell_type": "code",
   "execution_count": 8,
   "metadata": {},
   "outputs": [
    {
     "name": "stdout",
     "output_type": "stream",
     "text": [
      "      qid docno  label\n",
      "0       1    28      1\n",
      "1       1    35      1\n",
      "2       1    38      1\n",
      "3       1    42      1\n",
      "4       1    43      1\n",
      "...   ...   ...    ...\n",
      "3109  111   422      1\n",
      "3110  111   448      1\n",
      "3111  111   485      1\n",
      "3112  111   503      1\n",
      "3113  111   509      1\n",
      "\n",
      "[3114 rows x 3 columns]\n"
     ]
    }
   ],
   "source": [
    "print(qrels)"
   ]
  },
  {
   "cell_type": "code",
   "execution_count": 9,
   "metadata": {},
   "outputs": [
    {
     "ename": "",
     "evalue": "",
     "output_type": "error",
     "traceback": [
      "\u001b[1;31mEl kernel se bloqueó al ejecutar código en la celda actual o en una celda anterior. \n",
      "\u001b[1;31mRevise el código de las celdas para identificar una posible causa del error. \n",
      "\u001b[1;31mHaga clic <a href='https://aka.ms/vscodeJupyterKernelCrash'>aquí</a> para obtener más información. \n",
      "\u001b[1;31mVea Jupyter <a href='command:jupyter.viewOutput'>log</a> para obtener más detalles."
     ]
    }
   ],
   "source": [
    "## Queries con Frec\n",
    "\n",
    "eval_metrics = [\n",
    "    \"num_q\", \"num_ret\", \"num_rel\", \"num_rel_ret\", \"map\", \n",
    "    \"Rprec\", \"bpref\", \"recip_rank\", \"iprec_at_recall_0.00\", \n",
    "    \"iprec_at_recall_0.10\", \"iprec_at_recall_0.20\", \"iprec_at_recall_0.30\", \n",
    "    \"iprec_at_recall_0.40\", \"iprec_at_recall_0.50\", \"iprec_at_recall_0.60\", \n",
    "    \"iprec_at_recall_0.70\", \"iprec_at_recall_0.80\", \"iprec_at_recall_0.90\", \n",
    "    \"iprec_at_recall_1.00\", \"P_5\", \"P_10\", \"P_15\", \"P_20\", \"P_30\", \n",
    "    \"P_100\", \"P_200\", \"P_500\", \"P_1000\"\n",
    "]\n",
    "\n",
    "# Ejecutar el experimento solo para el sistema TF-IDF\n",
    "resultados_tfidf = pt.Experiment(\n",
    "    [tf_idf],\n",
    "    queries_con_frec,\n",
    "    qrels,\n",
    "    eval_metrics=eval_metrics,\n",
    "    names=[\"TF_IDF\"]\n",
    ")\n",
    "resultados_tfidf"
   ]
  },
  {
   "cell_type": "code",
   "execution_count": null,
   "metadata": {},
   "outputs": [
    {
     "ename": "NameError",
     "evalue": "name 'resultados_tfidf' is not defined",
     "output_type": "error",
     "traceback": [
      "\u001b[0;31m---------------------------------------------------------------------------\u001b[0m",
      "\u001b[0;31mNameError\u001b[0m                                 Traceback (most recent call last)",
      "Cell \u001b[0;32mIn[9], line 2\u001b[0m\n\u001b[1;32m      1\u001b[0m \u001b[38;5;66;03m# Mostrar Tabla de P@X\u001b[39;00m\n\u001b[0;32m----> 2\u001b[0m tabla \u001b[38;5;241m=\u001b[39m \u001b[43mresultados_tfidf\u001b[49m\u001b[38;5;241m.\u001b[39mmelt(value_vars\u001b[38;5;241m=\u001b[39m[\u001b[38;5;124m\"\u001b[39m\u001b[38;5;124mP_5\u001b[39m\u001b[38;5;124m\"\u001b[39m, \u001b[38;5;124m\"\u001b[39m\u001b[38;5;124mP_10\u001b[39m\u001b[38;5;124m\"\u001b[39m, \u001b[38;5;124m\"\u001b[39m\u001b[38;5;124mP_15\u001b[39m\u001b[38;5;124m\"\u001b[39m, \n\u001b[1;32m      3\u001b[0m                                     \u001b[38;5;124m\"\u001b[39m\u001b[38;5;124mP_20\u001b[39m\u001b[38;5;124m\"\u001b[39m, \u001b[38;5;124m\"\u001b[39m\u001b[38;5;124mP_30\u001b[39m\u001b[38;5;124m\"\u001b[39m, \u001b[38;5;124m\"\u001b[39m\u001b[38;5;124mP_100\u001b[39m\u001b[38;5;124m\"\u001b[39m, \n\u001b[1;32m      4\u001b[0m                                     \u001b[38;5;124m\"\u001b[39m\u001b[38;5;124mP_200\u001b[39m\u001b[38;5;124m\"\u001b[39m, \u001b[38;5;124m\"\u001b[39m\u001b[38;5;124mP_500\u001b[39m\u001b[38;5;124m\"\u001b[39m, \u001b[38;5;124m\"\u001b[39m\u001b[38;5;124mP_1000\u001b[39m\u001b[38;5;124m\"\u001b[39m], var_name\u001b[38;5;241m=\u001b[39m\u001b[38;5;124m\"\u001b[39m\u001b[38;5;124mP@X\u001b[39m\u001b[38;5;124m\"\u001b[39m, value_name\u001b[38;5;241m=\u001b[39m\u001b[38;5;124m\"\u001b[39m\u001b[38;5;124mValue\u001b[39m\u001b[38;5;124m\"\u001b[39m)\n\u001b[1;32m      5\u001b[0m tabla\n",
      "\u001b[0;31mNameError\u001b[0m: name 'resultados_tfidf' is not defined"
     ]
    }
   ],
   "source": [
    "# Mostrar Tabla de P@X\n",
    "tabla = resultados_tfidf.melt(value_vars=[\"P_5\", \"P_10\", \"P_15\", \n",
    "                                    \"P_20\", \"P_30\", \"P_100\", \n",
    "                                    \"P_200\", \"P_500\", \"P_1000\"], var_name=\"P@X\", value_name=\"Value\")\n",
    "tabla"
   ]
  },
  {
   "cell_type": "code",
   "execution_count": null,
   "metadata": {},
   "outputs": [
    {
     "data": {
      "text/html": [
       "<div>\n",
       "<style scoped>\n",
       "    .dataframe tbody tr th:only-of-type {\n",
       "        vertical-align: middle;\n",
       "    }\n",
       "\n",
       "    .dataframe tbody tr th {\n",
       "        vertical-align: top;\n",
       "    }\n",
       "\n",
       "    .dataframe thead th {\n",
       "        text-align: right;\n",
       "    }\n",
       "</style>\n",
       "<table border=\"1\" class=\"dataframe\">\n",
       "  <thead>\n",
       "    <tr style=\"text-align: right;\">\n",
       "      <th></th>\n",
       "      <th>Recall</th>\n",
       "      <th>Precision</th>\n",
       "    </tr>\n",
       "  </thead>\n",
       "  <tbody>\n",
       "    <tr>\n",
       "      <th>0</th>\n",
       "      <td>0.1</td>\n",
       "      <td>0.256955</td>\n",
       "    </tr>\n",
       "    <tr>\n",
       "      <th>1</th>\n",
       "      <td>0.2</td>\n",
       "      <td>0.115633</td>\n",
       "    </tr>\n",
       "    <tr>\n",
       "      <th>2</th>\n",
       "      <td>0.3</td>\n",
       "      <td>0.068484</td>\n",
       "    </tr>\n",
       "    <tr>\n",
       "      <th>3</th>\n",
       "      <td>0.4</td>\n",
       "      <td>0.053655</td>\n",
       "    </tr>\n",
       "    <tr>\n",
       "      <th>4</th>\n",
       "      <td>0.5</td>\n",
       "      <td>0.052010</td>\n",
       "    </tr>\n",
       "    <tr>\n",
       "      <th>5</th>\n",
       "      <td>0.6</td>\n",
       "      <td>0.033918</td>\n",
       "    </tr>\n",
       "    <tr>\n",
       "      <th>6</th>\n",
       "      <td>0.7</td>\n",
       "      <td>0.017544</td>\n",
       "    </tr>\n",
       "    <tr>\n",
       "      <th>7</th>\n",
       "      <td>0.8</td>\n",
       "      <td>0.017544</td>\n",
       "    </tr>\n",
       "    <tr>\n",
       "      <th>8</th>\n",
       "      <td>0.9</td>\n",
       "      <td>0.017544</td>\n",
       "    </tr>\n",
       "    <tr>\n",
       "      <th>9</th>\n",
       "      <td>1.0</td>\n",
       "      <td>0.017544</td>\n",
       "    </tr>\n",
       "  </tbody>\n",
       "</table>\n",
       "</div>"
      ],
      "text/plain": [
       "   Recall  Precision\n",
       "0     0.1   0.256955\n",
       "1     0.2   0.115633\n",
       "2     0.3   0.068484\n",
       "3     0.4   0.053655\n",
       "4     0.5   0.052010\n",
       "5     0.6   0.033918\n",
       "6     0.7   0.017544\n",
       "7     0.8   0.017544\n",
       "8     0.9   0.017544\n",
       "9     1.0   0.017544"
      ]
     },
     "execution_count": 36,
     "metadata": {},
     "output_type": "execute_result"
    }
   ],
   "source": [
    "df_11puntos = resultados_tfidf.melt(value_vars=[\"iprec_at_recall_0.10\", \"iprec_at_recall_0.20\", \"iprec_at_recall_0.30\", \n",
    "                                    \"iprec_at_recall_0.40\", \"iprec_at_recall_0.50\", \"iprec_at_recall_0.60\", \n",
    "                                    \"iprec_at_recall_0.70\", \"iprec_at_recall_0.80\", \"iprec_at_recall_0.90\", \n",
    "                                    \"iprec_at_recall_1.00\"], var_name=\"Recall\", value_name=\"Precision\")\n",
    "\n",
    "df_11puntos['Recall'] = df_11puntos['Recall'].apply(lambda x: float(x.split('_')[-1]))\n",
    "\n",
    "df_11puntos"
   ]
  },
  {
   "cell_type": "code",
   "execution_count": null,
   "metadata": {},
   "outputs": [
    {
     "data": {
      "image/png": "[encoded data removed]",
      "text/plain": [
       "<Figure size 1000x600 with 1 Axes>"
      ]
     },
     "metadata": {},
     "output_type": "display_data"
    }
   ],
   "source": [
    "# Crear el gráfico de líneas\n",
    "plt.figure(figsize=(10, 6))  # Establecer el tamaño del gráfico\n",
    "plt.plot(df_11puntos['Recall'], df_11puntos['Precision'], marker='o', linestyle='-')  # Graficar Recall vs Precision\n",
    "plt.title('Recall vs Precision - Con Frecuencias')  # Establecer el título del gráfico\n",
    "plt.xlabel('Recall')  # Etiqueta del eje x\n",
    "plt.ylabel('Precision')  # Etiqueta del eje y\n",
    "plt.grid(True)  # Activar la cuadrícula en el gráfico\n",
    "plt.show()  # Mostrar el gráfico"
   ]
  },
  {
   "cell_type": "code",
   "execution_count": null,
   "metadata": {},
   "outputs": [
    {
     "data": {
      "text/html": [
       "<div>\n",
       "<style scoped>\n",
       "    .dataframe tbody tr th:only-of-type {\n",
       "        vertical-align: middle;\n",
       "    }\n",
       "\n",
       "    .dataframe tbody tr th {\n",
       "        vertical-align: top;\n",
       "    }\n",
       "\n",
       "    .dataframe thead th {\n",
       "        text-align: right;\n",
       "    }\n",
       "</style>\n",
       "<table border=\"1\" class=\"dataframe\">\n",
       "  <thead>\n",
       "    <tr style=\"text-align: right;\">\n",
       "      <th></th>\n",
       "      <th>name</th>\n",
       "      <th>num_q</th>\n",
       "      <th>num_ret</th>\n",
       "      <th>num_rel</th>\n",
       "      <th>num_rel_ret</th>\n",
       "      <th>map</th>\n",
       "      <th>Rprec</th>\n",
       "      <th>bpref</th>\n",
       "      <th>recip_rank</th>\n",
       "      <th>iprec_at_recall_0.00</th>\n",
       "      <th>...</th>\n",
       "      <th>iprec_at_recall_1.00</th>\n",
       "      <th>P_5</th>\n",
       "      <th>P_10</th>\n",
       "      <th>P_15</th>\n",
       "      <th>P_20</th>\n",
       "      <th>P_30</th>\n",
       "      <th>P_100</th>\n",
       "      <th>P_200</th>\n",
       "      <th>P_500</th>\n",
       "      <th>P_1000</th>\n",
       "    </tr>\n",
       "  </thead>\n",
       "  <tbody>\n",
       "    <tr>\n",
       "      <th>0</th>\n",
       "      <td>TF_IDF</td>\n",
       "      <td>76.0</td>\n",
       "      <td>760.0</td>\n",
       "      <td>3114.0</td>\n",
       "      <td>188.0</td>\n",
       "      <td>0.051594</td>\n",
       "      <td>0.081551</td>\n",
       "      <td>0.098546</td>\n",
       "      <td>0.491479</td>\n",
       "      <td>0.516056</td>\n",
       "      <td>...</td>\n",
       "      <td>0.003289</td>\n",
       "      <td>0.273684</td>\n",
       "      <td>0.247368</td>\n",
       "      <td>0.164912</td>\n",
       "      <td>0.123684</td>\n",
       "      <td>0.082456</td>\n",
       "      <td>0.024737</td>\n",
       "      <td>0.012368</td>\n",
       "      <td>0.004947</td>\n",
       "      <td>0.002474</td>\n",
       "    </tr>\n",
       "  </tbody>\n",
       "</table>\n",
       "<p>1 rows × 29 columns</p>\n",
       "</div>"
      ],
      "text/plain": [
       "     name  num_q  num_ret  num_rel  num_rel_ret       map     Rprec     bpref  \\\n",
       "0  TF_IDF   76.0    760.0   3114.0        188.0  0.051594  0.081551  0.098546   \n",
       "\n",
       "   recip_rank  iprec_at_recall_0.00  ...  iprec_at_recall_1.00       P_5  \\\n",
       "0    0.491479              0.516056  ...              0.003289  0.273684   \n",
       "\n",
       "       P_10      P_15      P_20      P_30     P_100     P_200     P_500  \\\n",
       "0  0.247368  0.164912  0.123684  0.082456  0.024737  0.012368  0.004947   \n",
       "\n",
       "     P_1000  \n",
       "0  0.002474  \n",
       "\n",
       "[1 rows x 29 columns]"
      ]
     },
     "execution_count": 38,
     "metadata": {},
     "output_type": "execute_result"
    }
   ],
   "source": [
    "## Queries sin Frec\n",
    "\n",
    "# Ejecutar el experimento solo para el sistema TF-IDF\n",
    "resultados_tfidf_sin_frecs = pt.Experiment(\n",
    "    [tf_idf],\n",
    "    queries_sin_frec,\n",
    "    qrels,\n",
    "    eval_metrics=eval_metrics,\n",
    "    names=[\"TF_IDF\"]\n",
    ")\n",
    "resultados_tfidf_sin_frecs"
   ]
  },
  {
   "cell_type": "code",
   "execution_count": null,
   "metadata": {},
   "outputs": [
    {
     "data": {
      "text/html": [
       "<div>\n",
       "<style scoped>\n",
       "    .dataframe tbody tr th:only-of-type {\n",
       "        vertical-align: middle;\n",
       "    }\n",
       "\n",
       "    .dataframe tbody tr th {\n",
       "        vertical-align: top;\n",
       "    }\n",
       "\n",
       "    .dataframe thead th {\n",
       "        text-align: right;\n",
       "    }\n",
       "</style>\n",
       "<table border=\"1\" class=\"dataframe\">\n",
       "  <thead>\n",
       "    <tr style=\"text-align: right;\">\n",
       "      <th></th>\n",
       "      <th>P@X</th>\n",
       "      <th>Value</th>\n",
       "    </tr>\n",
       "  </thead>\n",
       "  <tbody>\n",
       "    <tr>\n",
       "      <th>0</th>\n",
       "      <td>P_5</td>\n",
       "      <td>0.273684</td>\n",
       "    </tr>\n",
       "    <tr>\n",
       "      <th>1</th>\n",
       "      <td>P_10</td>\n",
       "      <td>0.247368</td>\n",
       "    </tr>\n",
       "    <tr>\n",
       "      <th>2</th>\n",
       "      <td>P_15</td>\n",
       "      <td>0.164912</td>\n",
       "    </tr>\n",
       "    <tr>\n",
       "      <th>3</th>\n",
       "      <td>P_20</td>\n",
       "      <td>0.123684</td>\n",
       "    </tr>\n",
       "    <tr>\n",
       "      <th>4</th>\n",
       "      <td>P_30</td>\n",
       "      <td>0.082456</td>\n",
       "    </tr>\n",
       "    <tr>\n",
       "      <th>5</th>\n",
       "      <td>P_100</td>\n",
       "      <td>0.024737</td>\n",
       "    </tr>\n",
       "    <tr>\n",
       "      <th>6</th>\n",
       "      <td>P_200</td>\n",
       "      <td>0.012368</td>\n",
       "    </tr>\n",
       "    <tr>\n",
       "      <th>7</th>\n",
       "      <td>P_500</td>\n",
       "      <td>0.004947</td>\n",
       "    </tr>\n",
       "    <tr>\n",
       "      <th>8</th>\n",
       "      <td>P_1000</td>\n",
       "      <td>0.002474</td>\n",
       "    </tr>\n",
       "  </tbody>\n",
       "</table>\n",
       "</div>"
      ],
      "text/plain": [
       "      P@X     Value\n",
       "0     P_5  0.273684\n",
       "1    P_10  0.247368\n",
       "2    P_15  0.164912\n",
       "3    P_20  0.123684\n",
       "4    P_30  0.082456\n",
       "5   P_100  0.024737\n",
       "6   P_200  0.012368\n",
       "7   P_500  0.004947\n",
       "8  P_1000  0.002474"
      ]
     },
     "execution_count": 39,
     "metadata": {},
     "output_type": "execute_result"
    }
   ],
   "source": [
    "# Mostrar Tabla de P@X\n",
    "tabla = resultados_tfidf_sin_frecs.melt(value_vars=[\"P_5\", \"P_10\", \"P_15\", \n",
    "                                    \"P_20\", \"P_30\", \"P_100\", \n",
    "                                    \"P_200\", \"P_500\", \"P_1000\"], var_name=\"P@X\", value_name=\"Value\")\n",
    "tabla"
   ]
  },
  {
   "cell_type": "code",
   "execution_count": null,
   "metadata": {},
   "outputs": [
    {
     "data": {
      "text/html": [
       "<div>\n",
       "<style scoped>\n",
       "    .dataframe tbody tr th:only-of-type {\n",
       "        vertical-align: middle;\n",
       "    }\n",
       "\n",
       "    .dataframe tbody tr th {\n",
       "        vertical-align: top;\n",
       "    }\n",
       "\n",
       "    .dataframe thead th {\n",
       "        text-align: right;\n",
       "    }\n",
       "</style>\n",
       "<table border=\"1\" class=\"dataframe\">\n",
       "  <thead>\n",
       "    <tr style=\"text-align: right;\">\n",
       "      <th></th>\n",
       "      <th>Recall</th>\n",
       "      <th>Precision</th>\n",
       "    </tr>\n",
       "  </thead>\n",
       "  <tbody>\n",
       "    <tr>\n",
       "      <th>0</th>\n",
       "      <td>0.1</td>\n",
       "      <td>0.141599</td>\n",
       "    </tr>\n",
       "    <tr>\n",
       "      <th>1</th>\n",
       "      <td>0.2</td>\n",
       "      <td>0.056662</td>\n",
       "    </tr>\n",
       "    <tr>\n",
       "      <th>2</th>\n",
       "      <td>0.3</td>\n",
       "      <td>0.031642</td>\n",
       "    </tr>\n",
       "    <tr>\n",
       "      <th>3</th>\n",
       "      <td>0.4</td>\n",
       "      <td>0.019737</td>\n",
       "    </tr>\n",
       "    <tr>\n",
       "      <th>4</th>\n",
       "      <td>0.5</td>\n",
       "      <td>0.013158</td>\n",
       "    </tr>\n",
       "    <tr>\n",
       "      <th>5</th>\n",
       "      <td>0.6</td>\n",
       "      <td>0.010808</td>\n",
       "    </tr>\n",
       "    <tr>\n",
       "      <th>6</th>\n",
       "      <td>0.7</td>\n",
       "      <td>0.003289</td>\n",
       "    </tr>\n",
       "    <tr>\n",
       "      <th>7</th>\n",
       "      <td>0.8</td>\n",
       "      <td>0.003289</td>\n",
       "    </tr>\n",
       "    <tr>\n",
       "      <th>8</th>\n",
       "      <td>0.9</td>\n",
       "      <td>0.003289</td>\n",
       "    </tr>\n",
       "    <tr>\n",
       "      <th>9</th>\n",
       "      <td>1.0</td>\n",
       "      <td>0.003289</td>\n",
       "    </tr>\n",
       "  </tbody>\n",
       "</table>\n",
       "</div>"
      ],
      "text/plain": [
       "   Recall  Precision\n",
       "0     0.1   0.141599\n",
       "1     0.2   0.056662\n",
       "2     0.3   0.031642\n",
       "3     0.4   0.019737\n",
       "4     0.5   0.013158\n",
       "5     0.6   0.010808\n",
       "6     0.7   0.003289\n",
       "7     0.8   0.003289\n",
       "8     0.9   0.003289\n",
       "9     1.0   0.003289"
      ]
     },
     "execution_count": 40,
     "metadata": {},
     "output_type": "execute_result"
    }
   ],
   "source": [
    "# Mostrar R–P en los 11 puntos standard\n",
    "df_11puntos_sin_frec = resultados_tfidf_sin_frecs.melt(value_vars=[\"iprec_at_recall_0.10\", \"iprec_at_recall_0.20\", \"iprec_at_recall_0.30\", \n",
    "                                    \"iprec_at_recall_0.40\", \"iprec_at_recall_0.50\", \"iprec_at_recall_0.60\", \n",
    "                                    \"iprec_at_recall_0.70\", \"iprec_at_recall_0.80\", \"iprec_at_recall_0.90\", \n",
    "                                    \"iprec_at_recall_1.00\"], var_name=\"Recall\", value_name=\"Precision\")\n",
    "# Modificar los valores de recall\n",
    "df_11puntos_sin_frec['Recall'] = df_11puntos_sin_frec['Recall'].apply(lambda x: float(x.split('_')[-1]))\n",
    "\n",
    "df_11puntos_sin_frec"
   ]
  },
  {
   "cell_type": "code",
   "execution_count": null,
   "metadata": {},
   "outputs": [
    {
     "data": {
      "image/png": "[encoded data removed]",
      "text/plain": [
       "<Figure size 1000x600 with 1 Axes>"
      ]
     },
     "metadata": {},
     "output_type": "display_data"
    }
   ],
   "source": [
    "# Crear el gráfico de líneas\n",
    "plt.figure(figsize=(10, 6))  # Establecer el tamaño del gráfico\n",
    "plt.plot(df_11puntos_sin_frec['Recall'], df_11puntos_sin_frec['Precision'], marker='o', linestyle='-', label='Sin Frecs')  # Graficar la primera línea\n",
    "plt.plot(df_11puntos['Recall'], df_11puntos['Precision'], marker='x', linestyle='-', label='Con Frecs')  # Graficar la segunda línea\n",
    "plt.title('Recall vs Precision')  # Establecer el título del gráfico\n",
    "plt.xlabel('Recall')  # Etiqueta del eje x\n",
    "plt.ylabel('Precision')  # Etiqueta del eje y\n",
    "plt.grid(True)  # Activar la cuadrícula en el gráfico\n",
    "plt.legend()  # Mostrar leyenda\n",
    "plt.show()  # Mostrar el gráfico"
   ]
  },
  {
   "cell_type": "code",
   "execution_count": null,
   "metadata": {},
   "outputs": [
    {
     "data": {
      "image/png": "[encoded data removed]",
      "text/plain": [
       "<Figure size 640x480 with 1 Axes>"
      ]
     },
     "metadata": {},
     "output_type": "display_data"
    }
   ],
   "source": [
    "def graficar_recall(df):\n",
    "    plt.plot(df.index, df['Recall'], marker='o', linestyle='-', label='Recall')\n",
    "\n",
    "def graficar_precision(df):\n",
    "    plt.plot(df.index, df['Precision'], marker='o', linestyle='-', label='Precision')\n",
    "\n",
    "# Llamamos a las funciones para trazar las líneas\n",
    "graficar_recall(df_11puntos_sin_frec)\n",
    "graficar_precision(df_11puntos_sin_frec)\n",
    "\n",
    "# Añadir etiquetas, título, leyenda y mostrar el gráfico\n",
    "plt.xlabel('Número de documentos')\n",
    "plt.ylabel('Valor')\n",
    "plt.title('Recall y Precisión para documentos')\n",
    "plt.legend()\n",
    "plt.grid(True)\n",
    "plt.show()"
   ]
  },
  {
   "cell_type": "code",
   "execution_count": null,
   "metadata": {},
   "outputs": [],
   "source": []
  }
 ],
 "metadata": {
  "kernelspec": {
   "display_name": "Python 3",
   "language": "python",
   "name": "python3"
  },
  "language_info": {
   "codemirror_mode": {
    "name": "ipython",
    "version": 3
   },
   "file_extension": ".py",
   "mimetype": "text/x-python",
   "name": "python",
   "nbconvert_exporter": "python",
   "pygments_lexer": "ipython3",
   "version": "3.10.12"
  }
 },
 "nbformat": 4,
 "nbformat_minor": 2
}
