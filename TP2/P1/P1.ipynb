{
 "cells": [
  {
   "cell_type": "code",
   "execution_count": 2,
   "metadata": {},
   "outputs": [],
   "source": [
    "import re\n",
    "import os\n",
    "import numpy as np\n",
    "from scipy.optimize import curve_fit\n",
    "import pandas as pd\n",
    "%matplotlib inline\n",
    "import math\n",
    "from matplotlib import pyplot as plt\n",
    "import subprocess\n",
    "# Ejecutar el comando ls y capturar la salida"
   ]
  },
  {
   "cell_type": "code",
   "execution_count": 3,
   "id": "4fc2c7d6",
   "metadata": {},
   "outputs": [],
   "source": [
    "def count_terms(terms, doc):\n",
    "    for d in doc:\n",
    "        if d in terms:\n",
    "            terms[d] += 1\n",
    "        else:\n",
    "            terms[d] =  1\n",
    "    return terms"
   ]
  },
  {
   "cell_type": "code",
   "execution_count": 4,
   "id": "2ba55b25",
   "metadata": {},
   "outputs": [],
   "source": [
    "def get_arr(file):\n",
    "    arr = []\n",
    "    for line in file:\n",
    "        line = line.lower()\n",
    "        line = line.replace('id','')\n",
    "        line = line.replace('keywords','')\n",
    "        line = line.replace('\\n','')\n",
    "        line = re.sub(r'[^a-z0-9(),:]','', line)\n",
    "        ar =  line.split(\":\")\n",
    "        if len(ar) > 1:\n",
    "            doc_array = ar[1].strip('()').split(',')\n",
    "            arr.append(doc_array) \n",
    "    return arr\n",
    "\n",
    "    "
   ]
  },
  {
   "cell_type": "code",
   "execution_count": 5,
   "id": "fe5488f1",
   "metadata": {},
   "outputs": [],
   "source": [
    "def m_booleano(doc,queri):\n",
    "    mb = []\n",
    "    for q in queri:\n",
    "        if q in doc:\n",
    "            mb.append(1)\n",
    "        else:\n",
    "            mb.append(0)\n",
    "    return mb\n"
   ]
  },
  {
   "cell_type": "code",
   "execution_count": 6,
   "id": "6bc11c39-12c2-41a1-a2fc-790036c6bd78",
   "metadata": {},
   "outputs": [],
   "source": [
    "path = \"ejemploProfRibeiroNeto/ejemploRibeiro/documentVector.txt\"\n",
    "with open(path) as file:\n",
    "      doc = get_arr(file)  "
   ]
  },
  {
   "cell_type": "code",
   "execution_count": 7,
   "id": "7df96b48-25e3-4248-a399-b8048a5e3e90",
   "metadata": {},
   "outputs": [],
   "source": [
    "path = \"ejemploProfRibeiroNeto/ejemploRibeiro/queries.txt\"\n",
    "with open(path) as file:\n",
    "      queri = get_arr(file)  \n",
    "#N la cantidad de documentos \n",
    "#n en la cantidad de documentos que aparece la palabra  "
   ]
  },
  {
   "cell_type": "code",
   "execution_count": 8,
   "metadata": {},
   "outputs": [
    {
     "name": "stdout",
     "output_type": "stream",
     "text": [
      "Queri N 1\n",
      "Queri N 2\n",
      "Queri N 3\n",
      "Queri N 4\n",
      "Queri N 5\n",
      "Documento Numero 8\n",
      "Documento Numero 10\n",
      "Documento Numero 18\n",
      "Documento Numero 32\n"
     ]
    }
   ],
   "source": [
    "mb = []\n",
    "nq = 1 #Numero de queri\n",
    "for q in queri:\n",
    "    nd = 1 #Numero de documento\n",
    "    print ('Queri N',nq)\n",
    "    for d in doc:\n",
    "        mb = (m_booleano(d,q))\n",
    "        if np.all(np.array(mb) == 1):#np,any para traer todos los documentos que tengan por lo menos un 1\n",
    "            print('Documento Numero', nd)\n",
    "        nd+=1\n",
    "    nq+=1\n"
   ]
  },
  {
   "cell_type": "code",
   "execution_count": 9,
   "id": "5d15e761",
   "metadata": {},
   "outputs": [
    {
     "name": "stdout",
     "output_type": "stream",
     "text": [
      "[0, 0, 0]\n"
     ]
    }
   ],
   "source": [
    "cantDoc = len(doc)\n",
    "terms = {}\n",
    "for d in doc:\n",
    "    terms = count_terms(terms,d)\n",
    "#print(terms)\n",
    "#idf = get_idf(terms)\n",
    "print(mb)   "
   ]
  },
  {
   "cell_type": "code",
   "execution_count": 15,
   "id": "cc1e6e02",
   "metadata": {},
   "outputs": [
    {
     "name": "stdout",
     "output_type": "stream",
     "text": [
      "[['72', '117', '191'], ['147', '195', '196'], ['55', '56', '141', '142', '147'], ['147', '179', '180'], ['147', '182', '184']]\n",
      "Queri n 1 [(5, 1), (15, 1), (17, 1), (25, 1), (29, 1)]\n",
      "Queri n 2 [(4, 2), (9, 2), (19, 2), (21, 2), (37, 2)]\n",
      "Queri n 3 [(22, 2), (32, 2), (2, 1), (8, 1), (10, 1)]\n",
      "Queri n 4 [(7, 1), (8, 1), (10, 1), (13, 1), (18, 1)]\n",
      "Queri n 5 [(8, 3), (10, 3), (18, 3), (32, 3), (1, 0)]\n"
     ]
    }
   ],
   "source": [
    "nq = 1\n",
    "print(queri)\n",
    "for q in queri:\n",
    "    nd = 1 #Numero de documento\n",
    "    docScore = {}\n",
    "    #print ('Queri N',nq)\n",
    "    for d in doc:\n",
    "        mb = (m_booleano(d,q))\n",
    "        docScore[nd] = np.dot(np.array(mb),np.array(mb))\n",
    "        nd+=1\n",
    "    sorted_docs = sorted(docScore.items(), key=lambda item: item[1], reverse=True)\n",
    "    print('Queri n', nq, sorted_docs[:5])\n",
    "    nq+=1"
   ]
  },
  {
   "cell_type": "code",
   "execution_count": null,
   "id": "90f36cba",
   "metadata": {},
   "outputs": [],
   "source": []
  }
 ],
 "metadata": {
  "kernelspec": {
   "display_name": "Python 3 (ipykernel)",
   "language": "python",
   "name": "python3"
  },
  "language_info": {
   "codemirror_mode": {
    "name": "ipython",
    "version": 3
   },
   "file_extension": ".py",
   "mimetype": "text/x-python",
   "name": "python",
   "nbconvert_exporter": "python",
   "pygments_lexer": "ipython3",
   "version": "3.10.12"
  }
 },
 "nbformat": 4,
 "nbformat_minor": 5
}
