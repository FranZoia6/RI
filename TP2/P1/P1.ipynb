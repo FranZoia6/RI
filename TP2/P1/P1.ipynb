{
 "cells": [
  {
   "cell_type": "code",
   "execution_count": 274,
   "metadata": {},
   "outputs": [],
   "source": [
    "import re\n",
    "import os\n",
    "import numpy as np\n",
    "from scipy.optimize import curve_fit\n",
    "import pandas as pd\n",
    "%matplotlib inline\n",
    "import math\n",
    "from matplotlib import pyplot as plt\n",
    "import subprocess"
   ]
  },
  {
   "cell_type": "code",
   "execution_count": 275,
   "id": "4fc2c7d6",
   "metadata": {},
   "outputs": [],
   "source": [
    "def count_terms(terms, doc):\n",
    "    for d in doc:\n",
    "        if d in terms:\n",
    "            terms[d] += 1\n",
    "        else:\n",
    "            terms[d] =  1\n",
    "    return terms"
   ]
  },
  {
   "cell_type": "code",
   "execution_count": 276,
   "id": "2ba55b25",
   "metadata": {},
   "outputs": [],
   "source": [
    "def get_arr(file):\n",
    "    arr = []\n",
    "    for line in file:\n",
    "        line = line.lower()\n",
    "        line = line.replace('id','')\n",
    "        line = line.replace('keywords','')\n",
    "        line = line.replace('\\n','')\n",
    "        line = re.sub(r'[^a-z0-9(),:]','', line)\n",
    "        ar =  line.split(\":\")\n",
    "        if len(ar) > 1:\n",
    "            doc_array = ar[1].strip('()').split(',')\n",
    "            arr.append(doc_array) \n",
    "    return arr\n",
    "\n",
    "    "
   ]
  },
  {
   "cell_type": "code",
   "execution_count": 277,
   "id": "fe5488f1",
   "metadata": {},
   "outputs": [],
   "source": [
    "def m_booleano(doc,queri):\n",
    "    mb = []\n",
    "    for q in queri:\n",
    "        if q in doc:\n",
    "            mb.append(1)\n",
    "        else:\n",
    "            mb.append(0)\n",
    "    return mb\n"
   ]
  },
  {
   "cell_type": "code",
   "execution_count": 278,
   "id": "6bc11c39-12c2-41a1-a2fc-790036c6bd78",
   "metadata": {},
   "outputs": [],
   "source": [
    "import math\n",
    "def m_vectorial(doc,queri):\n",
    "    df = [0] * 203\n",
    "    idf = []\n",
    "    tfifd = {}\n",
    "    docN = 1\n",
    "    cantDoc = len(doc)\n",
    "\n",
    "    for terms in doc:\n",
    "        for term in terms:\n",
    "            df[int(term)] += 1 \n",
    "    \n",
    "    for i in df[1:]:  # Iniciar desde el índice 1 para omitir el término 0\n",
    "        idf.append(math.log(cantDoc / (i + 1)))  # Se agrega 1 para evitar división por cero\n",
    "\n",
    "    for terms in doc:\n",
    "        for term in terms:\n",
    "            for q in queri:\n",
    "                if q in term:\n",
    "                    if docN in tfifd:\n",
    "                        tfifd[docN] +=idf[int(q)]\n",
    "                    else:\n",
    "                        tfifd[docN]= idf[int(q)]\n",
    "        docN += 1\n",
    "    return tfifd\n",
    "    "
   ]
  },
  {
   "cell_type": "code",
   "execution_count": 279,
   "id": "d7e6e9f3",
   "metadata": {},
   "outputs": [
    {
     "name": "stdout",
     "output_type": "stream",
     "text": [
      "[['44', '51', '96', '128', '129', '151', '195'], ['3', '10', '25', '35', '37', '44', '46', '51', '58', '59', '65', '81', '82', '96', '102', '112', '114', '123', '124', '141', '149', '188', '189'], ['3', '4', '23', '24', '30', '31', '34', '35', '42', '51', '58', '81', '90', '96', '105', '112', '114', '123', '133', '134', '144', '155', '188', '201'], ['35', '51', '82', '96', '97', '113', '123', '135', '195', '196'], ['3', '4', '20', '32', '35', '51', '82', '96', '97', '98', '116', '121', '124', '125', '154', '162', '170', '171', '172', '191'], ['3', '6', '34', '35', '37', '46', '51', '89', '96', '97', '195'], ['10', '17', '35', '37', '41', '51', '82', '96', '120', '124', '152', '174', '175', '179', '188'], ['3', '35', '37', '46', '51', '82', '96', '124', '139', '147', '169', '178', '182', '183', '184'], ['4', '11', '51', '93', '96', '97', '118', '153', '195', '196'], ['1', '3', '4', '8', '35', '51', '60', '82', '96', '124', '147', '166', '169', '178', '182', '184'], ['35', '37', '51', '82', '96', '97', '102', '114', '124', '133', '141'], ['3', '4', '5', '10', '28', '29', '35', '37', '51', '58', '59', '64', '96', '97', '108', '112', '146', '149', '162', '177', '187', '198', '199'], ['20', '51', '75', '82', '84', '87', '88', '96', '120', '124', '127', '139', '155', '159', '162', '167', '178', '179'], ['11', '33', '51', '55', '69', '96', '97', '98', '124', '140', '196'], ['3', '4', '7', '35', '37', '44', '46', '51', '70', '82', '96', '97', '102', '124', '138', '191', '192'], ['34', '35', '37', '45', '50', '51', '62', '96', '97', '98', '100', '103', '122'], ['9', '22', '51', '53', '58', '83', '84', '85', '90', '96', '102', '104', '106', '110', '117', '126', '133', '135', '140', '162', '187', '198'], ['12', '14', '51', '52', '66', '68', '71', '96', '109', '130', '132', '134', '147', '165', '182', '184', '200'], ['13', '15', '21', '34', '47', '51', '55', '58', '74', '80', '94', '96', '98', '100', '115', '121', '123', '156', '157', '161', '162', '195', '196'], ['3', '35', '37', '40', '51', '79', '96', '97', '102', '114', '141', '150', '187'], ['3', '4', '35', '37', '51', '82', '95', '96', '97', '102', '123', '124', '140', '187', '195', '196'], ['24', '35', '51', '56', '57', '58', '59', '63', '96', '109', '136', '141', '187', '190'], ['3', '16', '37', '38', '51', '96', '131', '137', '173', '178'], ['3', '4', '35', '37', '51', '61', '96', '97', '98', '139', '140', '143', '145', '162', '176', '181'], ['3', '35', '51', '92', '96', '160', '164', '191', '202'], ['35', '37', '43', '51', '76', '81', '82', '91', '96', '124'], ['35', '39', '51', '96', '139', '168', '179'], ['18', '34', '35', '37', '51', '81', '96', '144', '187'], ['3', '35', '37', '48', '49', '51', '67', '82', '96', '124', '191', '195'], ['3', '27', '35', '37', '39', '51', '54', '82', '86', '96', '124', '148', '158', '178', '179'], ['51', '54', '96'], ['3', '4', '35', '51', '55', '90', '92', '96', '147', '151', '160', '182', '184', '185', '191', '202'], ['3', '4', '34', '35', '43', '51', '67', '82', '91', '96', '123', '124', '141', '144', '178'], ['51', '96', '141', '190'], ['33', '35', '39', '51', '96', '97', '124', '139', '179'], ['51', '59', '72', '78', '96', '97', '107', '111', '135', '162', '163', '178', '186', '192', '193', '194', '196', '197', '202'], ['2', '11', '19', '26', '35', '36', '37', '51', '96', '97', '99', '101', '119', '123', '161', '195', '196'], ['3', '23', '35', '37', '40', '51', '77', '78', '82', '96', '97', '124', '150', '187', '195', '196']]\n"
     ]
    }
   ],
   "source": [
    "path = \"ejemploProfRibeiroNeto/ejemploRibeiro/documentVector.txt\"\n",
    "with open(path) as file:\n",
    "      doc = get_arr(file)  \n",
    "print(doc)"
   ]
  },
  {
   "cell_type": "code",
   "execution_count": 280,
   "id": "7df96b48-25e3-4248-a399-b8048a5e3e90",
   "metadata": {},
   "outputs": [],
   "source": [
    "path = \"ejemploProfRibeiroNeto/ejemploRibeiro/queries.txt\"\n",
    "with open(path) as file:\n",
    "      queri = get_arr(file)  \n",
    "#N la cantidad de documentos \n",
    "#n en la cantidad de documentos que aparece la palabra  "
   ]
  },
  {
   "cell_type": "code",
   "execution_count": 281,
   "metadata": {},
   "outputs": [
    {
     "name": "stdout",
     "output_type": "stream",
     "text": [
      "Queri N 1\n",
      "Queri N 2\n",
      "Queri N 3\n",
      "Queri N 4\n",
      "Queri N 5\n",
      "Docu N 8\n",
      "Docu N 10\n",
      "Docu N 18\n",
      "Docu N 32\n"
     ]
    }
   ],
   "source": [
    "mb = []\n",
    "nq = 1 #Numero de queri\n",
    "for q in queri:\n",
    "    nd = 1 #Numero de documento\n",
    "    print ('Queri N',nq)\n",
    "    for d in doc:\n",
    "        mb = (m_booleano(d,q))\n",
    "        if np.all(np.array(mb) == 1):#np,any para traer todos los documentos que tengan por lo menos un 1\n",
    "            print('Docu N', nd)\n",
    "        nd+=1\n",
    "    nq+=1\n"
   ]
  },
  {
   "cell_type": "code",
   "execution_count": 282,
   "id": "5d15e761",
   "metadata": {},
   "outputs": [],
   "source": [
    "cantDoc = len(doc)\n",
    "terms = {}\n",
    "for d in doc:\n",
    "    terms = count_terms(terms,d)\n",
    "#print(terms)\n",
    "#idf = get_idf(terms)\n"
   ]
  },
  {
   "cell_type": "code",
   "execution_count": 283,
   "id": "cc1e6e02",
   "metadata": {},
   "outputs": [
    {
     "name": "stdout",
     "output_type": "stream",
     "text": [
      "Queri n 1\n",
      "Doc N 5 score 6.176560030784662\n",
      "Doc N 36 score 3.6375861597263857\n",
      "Doc N 17 score 2.9444389791664403\n",
      "Doc N 15 score 2.538973871058276\n",
      "Doc N 25 score 2.538973871058276\n",
      "Doc N 29 score 2.538973871058276\n",
      "Doc N 32 score 2.538973871058276\n",
      "Queri n 2\n",
      "Doc N 4 score 4.384800561556607\n",
      "Doc N 9 score 4.384800561556607\n",
      "Doc N 19 score 4.384800561556607\n",
      "Doc N 21 score 4.384800561556607\n",
      "Doc N 37 score 4.384800561556607\n",
      "Doc N 38 score 4.384800561556607\n",
      "Doc N 8 score 2.9444389791664403\n",
      "Doc N 10 score 2.9444389791664403\n",
      "Doc N 14 score 2.9444389791664403\n",
      "Doc N 18 score 2.9444389791664403\n",
      "Doc N 32 score 2.9444389791664403\n",
      "Doc N 36 score 2.9444389791664403\n",
      "Doc N 1 score 1.4403615823901663\n",
      "Doc N 6 score 1.4403615823901663\n",
      "Doc N 29 score 1.4403615823901663\n",
      "Queri n 3\n",
      "Doc N 22 score 6.582025138892826\n",
      "Doc N 19 score 5.8888779583328805\n",
      "Doc N 32 score 5.8888779583328805\n",
      "Doc N 2 score 3.6375861597263857\n",
      "Doc N 11 score 3.6375861597263857\n",
      "Doc N 20 score 3.6375861597263857\n",
      "Doc N 33 score 3.6375861597263857\n",
      "Doc N 34 score 3.6375861597263857\n",
      "Doc N 3 score 2.9444389791664403\n",
      "Doc N 8 score 2.9444389791664403\n",
      "Doc N 10 score 2.9444389791664403\n",
      "Doc N 13 score 2.9444389791664403\n",
      "Doc N 14 score 2.9444389791664403\n",
      "Doc N 18 score 2.9444389791664403\n",
      "Queri n 4\n",
      "Doc N 7 score 3.6375861597263857\n",
      "Doc N 13 score 3.6375861597263857\n",
      "Doc N 27 score 3.6375861597263857\n",
      "Doc N 30 score 3.6375861597263857\n",
      "Doc N 35 score 3.6375861597263857\n",
      "Doc N 8 score 2.9444389791664403\n",
      "Doc N 10 score 2.9444389791664403\n",
      "Doc N 18 score 2.9444389791664403\n",
      "Doc N 32 score 2.9444389791664403\n",
      "Queri n 5\n",
      "Doc N 8 score 8.83331693749932\n",
      "Doc N 10 score 8.83331693749932\n",
      "Doc N 18 score 8.83331693749932\n",
      "Doc N 32 score 8.83331693749932\n"
     ]
    }
   ],
   "source": [
    "nq = 1\n",
    "docR = {}\n",
    "for q in queri:\n",
    "    nd = 1 #Numero de documento\n",
    "    docScore = m_vectorial(doc,q)\n",
    "    sorted_docs = sorted(docScore.items(), key=lambda item: item[1], reverse=True)\n",
    "    print('Queri n', nq)\n",
    "    docR[nq] = [] \n",
    "    for docN, score in sorted_docs:\n",
    "        print('Doc N', docN, 'score', score)\n",
    "        docR[nq].append(docN)\n",
    "    nq +=1"
   ]
  },
  {
   "cell_type": "code",
   "execution_count": 284,
   "id": "90f36cba",
   "metadata": {},
   "outputs": [],
   "source": [
    "queri = [['72','116','191'],['56','195','196'],['56','141','142','147'],['147','182','184']]"
   ]
  },
  {
   "cell_type": "code",
   "execution_count": 288,
   "id": "8d3c5a1a",
   "metadata": {},
   "outputs": [
    {
     "name": "stdout",
     "output_type": "stream",
     "text": [
      "Queri n 1\n",
      "Doc N 5 score 9.120999009951102\n",
      "Doc N 36 score 3.6375861597263857\n",
      "Doc N 15 score 2.538973871058276\n",
      "Doc N 25 score 2.538973871058276\n",
      "Doc N 29 score 2.538973871058276\n",
      "Doc N 32 score 2.538973871058276\n",
      "Queri n 2\n",
      "Doc N 19 score 7.329239540723047\n",
      "Doc N 4 score 4.384800561556607\n",
      "Doc N 9 score 4.384800561556607\n",
      "Doc N 21 score 4.384800561556607\n",
      "Doc N 37 score 4.384800561556607\n",
      "Doc N 38 score 4.384800561556607\n",
      "Doc N 14 score 2.9444389791664403\n",
      "Doc N 22 score 2.9444389791664403\n",
      "Doc N 36 score 2.9444389791664403\n",
      "Doc N 1 score 1.4403615823901663\n",
      "Doc N 6 score 1.4403615823901663\n",
      "Doc N 29 score 1.4403615823901663\n",
      "Queri n 3\n",
      "Doc N 22 score 6.582025138892826\n",
      "Doc N 2 score 3.6375861597263857\n",
      "Doc N 11 score 3.6375861597263857\n",
      "Doc N 20 score 3.6375861597263857\n",
      "Doc N 33 score 3.6375861597263857\n",
      "Doc N 34 score 3.6375861597263857\n",
      "Doc N 8 score 2.9444389791664403\n",
      "Doc N 10 score 2.9444389791664403\n",
      "Doc N 18 score 2.9444389791664403\n",
      "Doc N 19 score 2.9444389791664403\n",
      "Doc N 32 score 2.9444389791664403\n",
      "Queri n 4\n",
      "Doc N 8 score 8.83331693749932\n",
      "Doc N 10 score 8.83331693749932\n",
      "Doc N 18 score 8.83331693749932\n",
      "Doc N 32 score 8.83331693749932\n"
     ]
    }
   ],
   "source": [
    "nq = 1\n",
    "docR2 = {}\n",
    "for q in queri:\n",
    "    nd = 1 #Numero de documento\n",
    "    docScore = m_vectorial(doc,q)\n",
    "    sorted_docs = sorted(docScore.items(), key=lambda item: item[1], reverse=True)\n",
    "    print('Queri n', nq)\n",
    "    docR2[nq] = [] \n",
    "    for docN, score in sorted_docs:\n",
    "        print('Doc N', docN, 'score', score)\n",
    "        docR2[nq].append(docN)\n",
    "    nq +=1"
   ]
  },
  {
   "cell_type": "code",
   "execution_count": 301,
   "id": "a34abbe5",
   "metadata": {},
   "outputs": [],
   "source": []
  }
 ],
 "metadata": {
  "kernelspec": {
   "display_name": "Python 3 (ipykernel)",
   "language": "python",
   "name": "python3"
  },
  "language_info": {
   "codemirror_mode": {
    "name": "ipython",
    "version": 3
   },
   "file_extension": ".py",
   "mimetype": "text/x-python",
   "name": "python",
   "nbconvert_exporter": "python",
   "pygments_lexer": "ipython3",
   "version": "3.10.12"
  }
 },
 "nbformat": 4,
 "nbformat_minor": 5
}
