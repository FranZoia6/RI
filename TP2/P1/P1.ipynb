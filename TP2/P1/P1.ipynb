{
 "cells": [
  {
   "cell_type": "code",
   "execution_count": null,
   "metadata": {},
   "outputs": [],
   "source": [
    "import re\n",
    "import os\n",
    "import numpy as np\n",
    "from scipy.optimize import curve_fit\n",
    "import pandas as pd\n",
    "%matplotlib inline\n",
    "import math\n",
    "from matplotlib import pyplot as plt\n",
    "import subprocess"
   ]
  },
  {
   "cell_type": "code",
   "execution_count": null,
   "id": "4fc2c7d6",
   "metadata": {},
   "outputs": [],
   "source": [
    "def count_terms(terms, doc):\n",
    "    for d in doc:\n",
    "        if d in terms:\n",
    "            terms[d] += 1\n",
    "        else:\n",
    "            terms[d] =  1\n",
    "    return terms"
   ]
  },
  {
   "cell_type": "code",
   "execution_count": null,
   "id": "2ba55b25",
   "metadata": {},
   "outputs": [],
   "source": [
    "def get_arr(file):\n",
    "    arr = []\n",
    "    for line in file:\n",
    "        line = line.lower()\n",
    "        line = line.replace('id','')\n",
    "        line = line.replace('keywords','')\n",
    "        line = line.replace('\\n','')\n",
    "        line = re.sub(r'[^a-z0-9(),:]','', line)\n",
    "        ar =  line.split(\":\")\n",
    "        if len(ar) > 1:\n",
    "            doc_array = ar[1].strip('()').split(',')\n",
    "            arr.append(doc_array) \n",
    "    return arr\n",
    "\n",
    "    "
   ]
  },
  {
   "cell_type": "code",
   "execution_count": null,
   "id": "fe5488f1",
   "metadata": {},
   "outputs": [],
   "source": [
    "def m_booleano(doc,queri):\n",
    "    mb = []\n",
    "    for q in queri:\n",
    "        if q in doc:\n",
    "            mb.append(1)\n",
    "        else:\n",
    "            mb.append(0)\n",
    "    return mb\n"
   ]
  },
  {
   "cell_type": "code",
   "execution_count": null,
   "id": "6bc11c39-12c2-41a1-a2fc-790036c6bd78",
   "metadata": {},
   "outputs": [],
   "source": [
    "import math\n",
    "def m_vectorial(doc,queri):\n",
    "    df = [0] * 203\n",
    "    idf = []\n",
    "    tfifd = {}\n",
    "    docN = 1\n",
    "    cantDoc = len(doc)\n",
    "\n",
    "    for terms in doc:\n",
    "        for term in terms:\n",
    "            df[int(term)] += 1 \n",
    "    \n",
    "    for i in df[1:]:  # Iniciar desde el índice 1 para omitir el término 0\n",
    "        idf.append(math.log(cantDoc / (i + 1)))  # Se agrega 1 para evitar división por cero\n",
    "\n",
    "    for terms in doc:\n",
    "        for term in terms:\n",
    "            for q in queri:\n",
    "                if q in term:\n",
    "                    if docN in tfifd:\n",
    "                        tfifd[docN] +=idf[int(q)]\n",
    "                    else:\n",
    "                        tfifd[docN]= idf[int(q)]\n",
    "        docN += 1\n",
    "    return tfifd\n",
    "    "
   ]
  },
  {
   "cell_type": "code",
   "execution_count": null,
   "id": "d7e6e9f3",
   "metadata": {},
   "outputs": [],
   "source": [
    "path = \"ejemploProfRibeiroNeto/ejemploRibeiro/documentVector.txt\"\n",
    "with open(path) as file:\n",
    "      doc = get_arr(file)  \n",
    "print(doc)"
   ]
  },
  {
   "cell_type": "code",
   "execution_count": null,
   "id": "7df96b48-25e3-4248-a399-b8048a5e3e90",
   "metadata": {},
   "outputs": [],
   "source": [
    "path = \"ejemploProfRibeiroNeto/ejemploRibeiro/queries.txt\"\n",
    "with open(path) as file:\n",
    "      queri = get_arr(file)  \n",
    "#N la cantidad de documentos \n",
    "#n en la cantidad de documentos que aparece la palabra  "
   ]
  },
  {
   "cell_type": "code",
   "execution_count": null,
   "metadata": {},
   "outputs": [],
   "source": [
    "mb = []\n",
    "nq = 1 #Numero de queri\n",
    "for q in queri:\n",
    "    nd = 1 #Numero de documento\n",
    "    print ('Queri N',nq)\n",
    "    for d in doc:\n",
    "        mb = (m_booleano(d,q))\n",
    "        if np.all(np.array(mb) == 1):#np,any para traer todos los documentos que tengan por lo menos un 1\n",
    "            print('Docu N', nd)\n",
    "        nd+=1\n",
    "    nq+=1\n"
   ]
  },
  {
   "cell_type": "code",
   "execution_count": null,
   "id": "5d15e761",
   "metadata": {},
   "outputs": [],
   "source": [
    "cantDoc = len(doc)\n",
    "terms = {}\n",
    "for d in doc:\n",
    "    terms = count_terms(terms,d)\n",
    "#print(terms)\n",
    "#idf = get_idf(terms)\n"
   ]
  },
  {
   "cell_type": "code",
   "execution_count": null,
   "id": "cc1e6e02",
   "metadata": {},
   "outputs": [],
   "source": [
    "nq = 1\n",
    "docR = {}\n",
    "for q in queri:\n",
    "    nd = 1 #Numero de documento\n",
    "    docScore = m_vectorial(doc,q)\n",
    "    sorted_docs = sorted(docScore.items(), key=lambda item: item[1], reverse=True)\n",
    "    print('Queri n', nq)\n",
    "    docR[nq] = [] \n",
    "    for docN, score in sorted_docs:\n",
    "        print('Doc N', docN, 'score', score)\n",
    "        docR[nq].append(docN)\n",
    "    nq +=1"
   ]
  },
  {
   "cell_type": "code",
   "execution_count": null,
   "id": "90f36cba",
   "metadata": {},
   "outputs": [],
   "source": [
    "queri = [['72','116','191'],['56','195','196'],['56','141','142','147'],['147','182','184']]"
   ]
  },
  {
   "cell_type": "code",
   "execution_count": null,
   "id": "8d3c5a1a",
   "metadata": {},
   "outputs": [],
   "source": [
    "nq = 1\n",
    "docR2 = {}\n",
    "for q in queri:\n",
    "    nd = 1 #Numero de documento\n",
    "    docScore = m_vectorial(doc,q)\n",
    "    sorted_docs = sorted(docScore.items(), key=lambda item: item[1], reverse=True)\n",
    "    print('Queri n', nq)\n",
    "    docR2[nq] = [] \n",
    "    for docN, score in sorted_docs:\n",
    "        print('Doc N', docN, 'score', score)\n",
    "        docR2[nq].append(docN)\n",
    "    nq +=1"
   ]
  },
  {
   "cell_type": "code",
   "execution_count": null,
   "id": "a34abbe5",
   "metadata": {},
   "outputs": [],
   "source": []
  }
 ],
 "metadata": {
  "kernelspec": {
   "display_name": "Python 3 (ipykernel)",
   "language": "python",
   "name": "python3"
  },
  "language_info": {
   "codemirror_mode": {
    "name": "ipython",
    "version": 3
   },
   "file_extension": ".py",
   "mimetype": "text/x-python",
   "name": "python",
   "nbconvert_exporter": "python",
   "pygments_lexer": "ipython3",
   "version": "3.10.12"
  }
 },
 "nbformat": 4,
 "nbformat_minor": 5
}
